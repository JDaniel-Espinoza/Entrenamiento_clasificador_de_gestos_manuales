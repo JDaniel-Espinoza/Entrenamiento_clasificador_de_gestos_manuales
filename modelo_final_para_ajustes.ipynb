{
  "cells": [
    {
      "cell_type": "markdown",
      "metadata": {
        "id": "view-in-github",
        "colab_type": "text"
      },
      "source": [
        "<a href=\"https://colab.research.google.com/github/MCHGR/Modelos/blob/main/modelo_final_para_ajustes.ipynb\" target=\"_parent\"><img src=\"https://colab.research.google.com/assets/colab-badge.svg\" alt=\"Open In Colab\"/></a>"
      ]
    },
    {
      "cell_type": "code",
      "execution_count": null,
      "metadata": {
        "colab": {
          "base_uri": "https://localhost:8080/"
        },
        "id": "WrL5tTD8h902",
        "outputId": "cea4644b-46bc-4f15-fb66-783a1696ce9e"
      },
      "outputs": [
        {
          "name": "stdout",
          "output_type": "stream",
          "text": [
            "Your runtime has 27.3 gigabytes of available RAM\n",
            "\n",
            "You are using a high-RAM runtime!\n"
          ]
        }
      ],
      "source": [
        "from psutil import virtual_memory\n",
        "ram_gb = virtual_memory().total / 1e9\n",
        "print('Your runtime has {:.1f} gigabytes of available RAM\\n'.format(ram_gb))\n",
        "\n",
        "if ram_gb < 20:\n",
        "  print('Not using a high-RAM runtime')\n",
        "else:\n",
        "  print('You are using a high-RAM runtime!')"
      ]
    },
    {
      "cell_type": "code",
      "execution_count": null,
      "metadata": {
        "colab": {
          "base_uri": "https://localhost:8080/"
        },
        "id": "ZYNBxRuq5Alw",
        "outputId": "9e3c4af4-53fb-4c26-a8fd-5237e2d8a9e6"
      },
      "outputs": [
        {
          "name": "stdout",
          "output_type": "stream",
          "text": [
            "Wed Nov 23 22:38:16 2022       \n",
            "+-----------------------------------------------------------------------------+\n",
            "| NVIDIA-SMI 460.32.03    Driver Version: 460.32.03    CUDA Version: 11.2     |\n",
            "|-------------------------------+----------------------+----------------------+\n",
            "| GPU  Name        Persistence-M| Bus-Id        Disp.A | Volatile Uncorr. ECC |\n",
            "| Fan  Temp  Perf  Pwr:Usage/Cap|         Memory-Usage | GPU-Util  Compute M. |\n",
            "|                               |                      |               MIG M. |\n",
            "|===============================+======================+======================|\n",
            "|   0  Tesla T4            Off  | 00000000:00:04.0 Off |                    0 |\n",
            "| N/A   55C    P8    12W /  70W |      0MiB / 15109MiB |      0%      Default |\n",
            "|                               |                      |                  N/A |\n",
            "+-------------------------------+----------------------+----------------------+\n",
            "                                                                               \n",
            "+-----------------------------------------------------------------------------+\n",
            "| Processes:                                                                  |\n",
            "|  GPU   GI   CI        PID   Type   Process name                  GPU Memory |\n",
            "|        ID   ID                                                   Usage      |\n",
            "|=============================================================================|\n",
            "|  No running processes found                                                 |\n",
            "+-----------------------------------------------------------------------------+\n"
          ]
        }
      ],
      "source": [
        "gpu_info = !nvidia-smi\n",
        "gpu_info = '\\n'.join(gpu_info)\n",
        "if gpu_info.find('failed') >= 0:\n",
        "  print('Not connected to a GPU')\n",
        "else:\n",
        "  print(gpu_info)"
      ]
    },
    {
      "cell_type": "code",
      "execution_count": null,
      "metadata": {
        "colab": {
          "base_uri": "https://localhost:8080/"
        },
        "id": "TnEf0Ft3K5ko",
        "outputId": "aa6730a6-a2ae-4626-b506-67368bd7bbe8"
      },
      "outputs": [
        {
          "output_type": "stream",
          "name": "stdout",
          "text": [
            "Mounted at /content/drive\n"
          ]
        }
      ],
      "source": [
        "from google.colab import drive\n",
        "drive.mount('/content/drive')"
      ]
    },
    {
      "cell_type": "code",
      "execution_count": null,
      "metadata": {
        "id": "d3G5PtAUFe0k"
      },
      "outputs": [],
      "source": [
        "import cv2\n",
        "import numpy as np\n",
        "import os\n",
        "import pathlib\n",
        "import tensorflow as tf \n",
        "#import matplotlib.pyplot as plt /content/drive/MyDrive/dataset/dataset/real/images/Drag \n",
        "ruta_Drag1 = \"/content/drive/MyDrive/Dataset2/data/four_short\"\n",
        "\n",
        "Drag_train = []\n",
        "img_size = 150\n",
        "\n",
        "for img in os.listdir(ruta_Drag1):\n",
        "  img = cv2.imread(os.path.join(ruta_Drag1,img))\n",
        "#img_gray = cv2.cvtColor(img,cv2.COLOR_BGR2GRAY)\n",
        "  img_gray_resize = cv2.resize(img,(img_size,img_size))\n",
        "  Drag_train.append([img_gray_resize])\n",
        "\n",
        "#print(Drag_train.shape)\n",
        "#print(Drag_train)"
      ]
    },
    {
      "cell_type": "code",
      "execution_count": null,
      "metadata": {
        "id": "gRxqvEWEsoTT"
      },
      "outputs": [],
      "source": [
        "#/content/drive/MyDrive/dataset/dataset/real/images/Loupe\n",
        "ruta_Loupe1 = \"/content/drive/MyDrive/Dataset2/data/one_short\"\n",
        "Loupe_train = []\n",
        "img_size2 = 150\n",
        "\n",
        "\n",
        "\n",
        "for img2 in os.listdir(ruta_Loupe1):\n",
        "  img2 = cv2.imread(os.path.join(ruta_Loupe1,img2))\n",
        "# img_gray = cv2.cvtColor(img,cv2.COLOR_BGR2GRAY)\n",
        "  img_gray_resize2 = cv2.resize(img2,(img_size2,img_size2))\n",
        "  Loupe_train.append([img_gray_resize2])\n",
        "#  print(len(Drag_train))\n",
        "#  print(Drag_train)\n",
        "\n",
        "\n",
        "\n"
      ]
    },
    {
      "cell_type": "code",
      "execution_count": null,
      "metadata": {
        "id": "eTs6wAy1XwcR"
      },
      "outputs": [],
      "source": [
        "#/content/drive/MyDrive/dataset/dataset/real/images/Loupe\n",
        "ruta_peace = \"/content/drive/MyDrive/Dataset2/data/peace_short\"\n",
        "peace_train = []\n",
        "img_size2 = 150\n",
        "\n",
        "\n",
        "\n",
        "for img2 in os.listdir(ruta_peace):\n",
        "  img2 = cv2.imread(os.path.join(ruta_peace,img2))\n",
        "# img_gray = cv2.cvtColor(img,cv2.COLOR_BGR2GRAY)\n",
        "  img_gray_resize2 = cv2.resize(img2,(img_size2,img_size2))\n",
        "  peace_train.append([img_gray_resize2])\n",
        "#  print(len(Drag_train))\n",
        "#  print(Drag_train)\n"
      ]
    },
    {
      "cell_type": "code",
      "execution_count": null,
      "metadata": {
        "colab": {
          "base_uri": "https://localhost:8080/"
        },
        "id": "eM3Bf2Kuh0Pm",
        "outputId": "5a1e9630-0f62-4e18-8cd4-d8a27ee70229"
      },
      "outputs": [
        {
          "output_type": "stream",
          "name": "stdout",
          "text": [
            "(5181, 1, 150, 150, 3)\n",
            "(5139, 1, 150, 150, 3)\n",
            "(5402, 1, 150, 150, 3)\n"
          ]
        }
      ],
      "source": [
        "peace_train = np.array(peace_train)\n",
        "print(peace_train.shape)\n",
        "\n",
        "Drag_train = np.array(Drag_train)\n",
        "print(Drag_train.shape)\n",
        "\n",
        "Loupe_train = np.array(Loupe_train)\n",
        "print(Loupe_train.shape)"
      ]
    },
    {
      "cell_type": "code",
      "execution_count": null,
      "metadata": {
        "colab": {
          "base_uri": "https://localhost:8080/"
        },
        "id": "OkwEUbw3Ynzo",
        "outputId": "d29adf65-4710-4c37-c777-725cc33e2180"
      },
      "outputs": [
        {
          "output_type": "stream",
          "name": "stdout",
          "text": [
            "6000\n",
            "imagenes train =  (6000, 150, 150, 3)\n",
            "6000\n",
            "imagenes val =  (6000, 150, 150, 3)\n",
            "3300\n",
            "(3300, 150, 150, 3)\n",
            "6000\n",
            "etiquetas train =  (6000,)\n",
            "6000\n",
            "etiquetas val =  (6000,)\n",
            "3300\n",
            "(3300,)\n"
          ]
        }
      ],
      "source": [
        "import numpy as np\n",
        "import tensorflow as tf\n",
        "from tensorflow import keras\n",
        "from tensorflow.keras import layers, utils, callbacks\n",
        "\n",
        "\n",
        "#Drag_train = np.array(Drag_train)\n",
        "Drag_train = Drag_train.reshape((5139, 150, 150, 3)).astype(\"float32\") / 255\n",
        "train_images_D, val_images_D, test_images_D = Drag_train[0:2000], Drag_train[2000:4000], Drag_train[4000:5100]\n",
        "etiquetas_1 = np.repeat(0,2000)\n",
        "etiquetas_2 = np.repeat(0,2000)\n",
        "etiquetas_3 = np.repeat(0,1100)\n",
        "'''\n",
        "#Drag_train = np.array(Drag_train)\n",
        "Drag_train = Drag_train.reshape((5139, 150, 150, 3)).astype(\"float32\") / 255\n",
        "train_images_D, val_images_D, test_images_D = Drag_train[0:1000], Drag_train[1000:1600], Drag_train[1600:2000]\n",
        "etiquetas_1 = np.repeat(0,1000)\n",
        "etiquetas_2 = np.repeat(0,600)\n",
        "#etiquetas_3 = np.repeat(0,400)\n",
        "'''\n",
        "\n",
        "#Loupe_train = np.array(Loupe_train)\n",
        "Loupe_train = Loupe_train.reshape((5402, 150, 150, 3)).astype(\"float32\") / 255\n",
        "train_images_L, val_images_L, test_images_L = Loupe_train[0:2000], Loupe_train[2000:4000], Loupe_train[4000:5100]\n",
        "etiquetas_10 = np.repeat(1,2000)\n",
        "etiquetas_20 = np.repeat(1,2000)\n",
        "etiquetas_30 = np.repeat(1,1100)\n",
        "\n",
        "#Loupe_train = np.array(Loupe_train)\n",
        "peace_train = peace_train.reshape((5181, 150, 150, 3)).astype(\"float32\") / 255\n",
        "train_images_P, val_images_P, test_images_P = peace_train[0:2000], peace_train[2000:4000], peace_train[4000:5100]\n",
        "etiquetas_100 = np.repeat(2,2000)\n",
        "etiquetas_200 = np.repeat(2,2000)\n",
        "etiquetas_300 = np.repeat(2,1100)\n",
        "\n",
        "'''\n",
        "#Loupe_train = np.array(Loupe_train)\n",
        "peace_train = peace_train.reshape((5181, 150, 150, 3)).astype(\"float32\") / 255\n",
        "train_images_P, val_images_P = peace_train[0:1000], peace_train[1000:1600]\n",
        "etiquetas_100 = np.repeat(2,1000)\n",
        "etiquetas_200 = np.repeat(2,600)\n",
        "#etiquetas_300 = np.repeat(1,400)\n",
        "'''\n",
        "\n",
        "images_train = np.concatenate([train_images_D,train_images_L, train_images_P])\n",
        "print(len(images_train))\n",
        "Images_train = np.array(images_train)\n",
        "print(\"imagenes train = \",Images_train.shape)\n",
        "\n",
        "images_val = np.concatenate([val_images_D,val_images_L, val_images_P])\n",
        "print(len(images_val))\n",
        "Images_val = np.array(images_val)\n",
        "print(\"imagenes val = \",Images_val.shape)\n",
        "\n",
        "images_test = np.concatenate([test_images_D,test_images_L, test_images_P])\n",
        "print(len(images_test))\n",
        "Images_test = np.array(images_test)\n",
        "print(Images_test.shape)\n",
        "\n",
        "\n",
        "\n",
        "etiquetas_train = np.concatenate([etiquetas_1, etiquetas_10, etiquetas_100])\n",
        "print(len(etiquetas_train))\n",
        "Etiquetas_train = np.array(etiquetas_train)\n",
        "print(\"etiquetas train = \",Etiquetas_train.shape)\n",
        "\n",
        "etiquetas_val = np.concatenate([etiquetas_2, etiquetas_20, etiquetas_200])\n",
        "print(len(etiquetas_val))\n",
        "Etiquetas_val = np.array(etiquetas_val)\n",
        "print(\"etiquetas val = \",Etiquetas_val.shape)\n",
        "\n",
        "etiquetas_test = np.concatenate([etiquetas_3, etiquetas_30, etiquetas_300])\n",
        "print(len(etiquetas_test))\n",
        "Etiquetas_test = np.array(etiquetas_test)\n",
        "print(Etiquetas_test.shape)\n",
        "\n",
        "'''\n",
        "train_dataset = tf.data.Dataset.from_tensor_slices(Images_train)\n",
        "train_batched_dataset = train_dataset.batch(32)\n",
        "for i, element in enumerate(train_batched_dataset):\n",
        "  print(element.shape)\n",
        "  if i >=2:\n",
        "    break\n",
        "'''\n",
        "callbacks = [\n",
        "    keras.callbacks.ModelCheckpoint(\n",
        "        filepath=\"convnet_from_scratch.keras\",\n",
        "        save_best_only=True,\n",
        "        monitor=\"val_loss\")\n",
        "]\n"
      ]
    },
    {
      "cell_type": "code",
      "execution_count": null,
      "metadata": {
        "id": "mVGlnw2lx6Yo"
      },
      "outputs": [],
      "source": [
        "import random\n",
        "'''\n",
        "x=([1, 2, 33, 0, 7,8])\n",
        "y=([11, 21, 331, 71, 71, 81])\n",
        "r=([100, 24, 334, 0, 7,8])\n",
        "t=([11, 218, 331, 718, 71, 801])\n",
        "random.Random(1337).shuffle(x)\n",
        "print(x)\n",
        "random.Random(1337).shuffle(y)\n",
        "print(y)\n",
        "random.Random(1337).shuffle(r)\n",
        "print(r)\n",
        "random.Random(1337).shuffle(t)\n",
        "print(t)\n",
        "'''\n",
        "random.Random(1337).shuffle(Images_train)\n",
        "random.Random(1337).shuffle(Etiquetas_train)\n",
        "\n",
        "\n",
        "random.Random(1337).shuffle(Images_val)\n",
        "random.Random(1337).shuffle(Etiquetas_val)\n",
        "\n",
        "\n",
        "random.Random(1337).shuffle(Images_test)\n",
        "random.Random(1337).shuffle(Etiquetas_test)\n"
      ]
    },
    {
      "cell_type": "code",
      "execution_count": null,
      "metadata": {
        "id": "ifqpNA65Or8c"
      },
      "outputs": [],
      "source": [
        "data_augmentation = keras.Sequential(\n",
        "    [\n",
        "        layers.RandomFlip(\"horizontal\"),\n",
        "     layers.RandomRotation(0.1),\n",
        "     layers.RandomZoom(0.2),\n",
        "    ]\n",
        ")"
      ]
    },
    {
      "cell_type": "code",
      "execution_count": null,
      "metadata": {
        "colab": {
          "base_uri": "https://localhost:8080/"
        },
        "id": "G1ZO5IK25YQv",
        "outputId": "e9e31684-9b02-4b19-81d6-2ae0da00c7d9"
      },
      "outputs": [
        {
          "output_type": "stream",
          "name": "stdout",
          "text": [
            "Epoch 1/200\n",
            "47/47 [==============================] - 23s 262ms/step - loss: 9.2727 - accuracy: 0.3327 - val_loss: 1.6060 - val_accuracy: 0.3333\n",
            "Epoch 2/200\n",
            "47/47 [==============================] - 10s 203ms/step - loss: 4.7648 - accuracy: 0.3358 - val_loss: 1.0975 - val_accuracy: 0.3437\n",
            "Epoch 3/200\n",
            "47/47 [==============================] - 9s 203ms/step - loss: 2.7259 - accuracy: 0.3345 - val_loss: 1.1524 - val_accuracy: 0.3438\n",
            "Epoch 4/200\n",
            "47/47 [==============================] - 10s 204ms/step - loss: 2.1181 - accuracy: 0.3528 - val_loss: 1.1082 - val_accuracy: 0.3412\n",
            "Epoch 5/200\n",
            "47/47 [==============================] - 9s 202ms/step - loss: 1.6065 - accuracy: 0.3438 - val_loss: 1.1022 - val_accuracy: 0.3420\n",
            "Epoch 6/200\n",
            "47/47 [==============================] - 10s 204ms/step - loss: 1.4079 - accuracy: 0.3648 - val_loss: 1.0980 - val_accuracy: 0.3487\n",
            "Epoch 7/200\n",
            "47/47 [==============================] - 10s 205ms/step - loss: 1.1784 - accuracy: 0.4210 - val_loss: 1.0743 - val_accuracy: 0.3945\n",
            "Epoch 8/200\n",
            "47/47 [==============================] - 10s 205ms/step - loss: 1.0557 - accuracy: 0.4473 - val_loss: 1.0689 - val_accuracy: 0.3942\n",
            "Epoch 9/200\n",
            "47/47 [==============================] - 10s 205ms/step - loss: 1.0375 - accuracy: 0.4662 - val_loss: 1.0555 - val_accuracy: 0.4272\n",
            "Epoch 10/200\n",
            "47/47 [==============================] - 10s 207ms/step - loss: 0.9968 - accuracy: 0.5037 - val_loss: 1.0303 - val_accuracy: 0.4795\n",
            "Epoch 11/200\n",
            "47/47 [==============================] - 10s 207ms/step - loss: 0.9869 - accuracy: 0.5150 - val_loss: 1.0001 - val_accuracy: 0.4978\n",
            "Epoch 12/200\n",
            "47/47 [==============================] - 10s 208ms/step - loss: 0.9536 - accuracy: 0.5333 - val_loss: 0.9993 - val_accuracy: 0.5083\n",
            "Epoch 13/200\n",
            "47/47 [==============================] - 10s 206ms/step - loss: 0.9051 - accuracy: 0.5677 - val_loss: 1.0189 - val_accuracy: 0.4687\n",
            "Epoch 14/200\n",
            "47/47 [==============================] - 10s 206ms/step - loss: 0.8829 - accuracy: 0.5893 - val_loss: 0.9665 - val_accuracy: 0.5192\n",
            "Epoch 15/200\n",
            "47/47 [==============================] - 10s 205ms/step - loss: 0.8590 - accuracy: 0.6032 - val_loss: 0.8676 - val_accuracy: 0.5975\n",
            "Epoch 16/200\n",
            "47/47 [==============================] - 10s 207ms/step - loss: 0.8040 - accuracy: 0.6347 - val_loss: 0.8432 - val_accuracy: 0.6037\n",
            "Epoch 17/200\n",
            "47/47 [==============================] - 10s 207ms/step - loss: 0.7939 - accuracy: 0.6488 - val_loss: 0.9217 - val_accuracy: 0.5727\n",
            "Epoch 18/200\n",
            "47/47 [==============================] - 10s 207ms/step - loss: 0.7490 - accuracy: 0.6635 - val_loss: 0.7029 - val_accuracy: 0.6957\n",
            "Epoch 19/200\n",
            "47/47 [==============================] - 10s 206ms/step - loss: 0.7146 - accuracy: 0.6892 - val_loss: 0.7967 - val_accuracy: 0.6468\n",
            "Epoch 20/200\n",
            "47/47 [==============================] - 10s 206ms/step - loss: 0.6730 - accuracy: 0.7067 - val_loss: 0.7521 - val_accuracy: 0.6425\n",
            "Epoch 21/200\n",
            "47/47 [==============================] - 10s 208ms/step - loss: 0.6712 - accuracy: 0.7187 - val_loss: 0.6940 - val_accuracy: 0.7057\n",
            "Epoch 22/200\n",
            "47/47 [==============================] - 10s 206ms/step - loss: 0.6310 - accuracy: 0.7322 - val_loss: 0.6381 - val_accuracy: 0.7183\n",
            "Epoch 23/200\n",
            "47/47 [==============================] - 10s 207ms/step - loss: 0.5905 - accuracy: 0.7513 - val_loss: 0.5333 - val_accuracy: 0.7768\n",
            "Epoch 24/200\n",
            "47/47 [==============================] - 10s 205ms/step - loss: 0.5631 - accuracy: 0.7633 - val_loss: 1.0527 - val_accuracy: 0.4325\n",
            "Epoch 25/200\n",
            "47/47 [==============================] - 10s 205ms/step - loss: 0.5582 - accuracy: 0.7757 - val_loss: 0.7045 - val_accuracy: 0.6995\n",
            "Epoch 26/200\n",
            "47/47 [==============================] - 10s 205ms/step - loss: 0.5222 - accuracy: 0.7932 - val_loss: 0.5616 - val_accuracy: 0.7503\n",
            "Epoch 27/200\n",
            "47/47 [==============================] - 10s 206ms/step - loss: 0.4779 - accuracy: 0.8027 - val_loss: 0.7867 - val_accuracy: 0.6308\n",
            "Epoch 28/200\n",
            "47/47 [==============================] - 10s 206ms/step - loss: 0.4813 - accuracy: 0.8045 - val_loss: 0.5831 - val_accuracy: 0.7417\n",
            "Epoch 29/200\n",
            "47/47 [==============================] - 10s 207ms/step - loss: 0.4753 - accuracy: 0.8135 - val_loss: 0.7172 - val_accuracy: 0.6467\n",
            "Epoch 30/200\n",
            "47/47 [==============================] - 10s 206ms/step - loss: 0.4629 - accuracy: 0.8187 - val_loss: 0.5487 - val_accuracy: 0.7703\n",
            "Epoch 31/200\n",
            "47/47 [==============================] - 10s 206ms/step - loss: 0.4174 - accuracy: 0.8385 - val_loss: 0.5933 - val_accuracy: 0.7245\n",
            "Epoch 32/200\n",
            "47/47 [==============================] - 10s 206ms/step - loss: 0.4242 - accuracy: 0.8388 - val_loss: 0.4444 - val_accuracy: 0.8115\n",
            "Epoch 33/200\n",
            "47/47 [==============================] - 10s 206ms/step - loss: 0.4068 - accuracy: 0.8413 - val_loss: 0.4983 - val_accuracy: 0.7827\n",
            "Epoch 34/200\n",
            "47/47 [==============================] - 10s 206ms/step - loss: 0.3851 - accuracy: 0.8545 - val_loss: 0.3418 - val_accuracy: 0.8755\n",
            "Epoch 35/200\n",
            "47/47 [==============================] - 10s 205ms/step - loss: 0.3522 - accuracy: 0.8642 - val_loss: 0.6346 - val_accuracy: 0.7102\n",
            "Epoch 36/200\n",
            "47/47 [==============================] - 10s 206ms/step - loss: 0.3692 - accuracy: 0.8608 - val_loss: 0.5657 - val_accuracy: 0.7455\n",
            "Epoch 37/200\n",
            "47/47 [==============================] - 10s 205ms/step - loss: 0.3477 - accuracy: 0.8685 - val_loss: 1.1055 - val_accuracy: 0.4572\n",
            "Epoch 38/200\n",
            "47/47 [==============================] - 10s 205ms/step - loss: 0.3260 - accuracy: 0.8740 - val_loss: 0.6226 - val_accuracy: 0.7420\n",
            "Epoch 39/200\n",
            "47/47 [==============================] - 10s 207ms/step - loss: 0.3199 - accuracy: 0.8810 - val_loss: 0.4169 - val_accuracy: 0.8392\n",
            "Epoch 40/200\n",
            "47/47 [==============================] - 10s 207ms/step - loss: 0.3124 - accuracy: 0.8798 - val_loss: 0.3078 - val_accuracy: 0.8808\n",
            "Epoch 41/200\n",
            "47/47 [==============================] - 10s 207ms/step - loss: 0.3009 - accuracy: 0.8873 - val_loss: 0.3021 - val_accuracy: 0.8915\n",
            "Epoch 42/200\n",
            "47/47 [==============================] - 10s 206ms/step - loss: 0.2822 - accuracy: 0.8943 - val_loss: 0.6436 - val_accuracy: 0.7025\n",
            "Epoch 43/200\n",
            "47/47 [==============================] - 10s 206ms/step - loss: 0.2865 - accuracy: 0.8945 - val_loss: 0.3288 - val_accuracy: 0.8652\n",
            "Epoch 44/200\n",
            "47/47 [==============================] - 10s 205ms/step - loss: 0.2772 - accuracy: 0.8980 - val_loss: 0.3299 - val_accuracy: 0.8627\n",
            "Epoch 45/200\n",
            "47/47 [==============================] - 10s 207ms/step - loss: 0.2589 - accuracy: 0.9060 - val_loss: 0.2960 - val_accuracy: 0.8860\n",
            "Epoch 46/200\n",
            "47/47 [==============================] - 10s 205ms/step - loss: 0.2541 - accuracy: 0.9038 - val_loss: 0.3872 - val_accuracy: 0.8455\n",
            "Epoch 47/200\n",
            "47/47 [==============================] - 10s 205ms/step - loss: 0.2440 - accuracy: 0.9120 - val_loss: 0.3261 - val_accuracy: 0.8688\n",
            "Epoch 48/200\n",
            "47/47 [==============================] - 10s 205ms/step - loss: 0.2588 - accuracy: 0.9045 - val_loss: 0.5702 - val_accuracy: 0.7760\n",
            "Epoch 49/200\n",
            "47/47 [==============================] - 10s 206ms/step - loss: 0.2334 - accuracy: 0.9120 - val_loss: 0.6292 - val_accuracy: 0.7227\n",
            "Epoch 50/200\n",
            "47/47 [==============================] - 10s 206ms/step - loss: 0.2261 - accuracy: 0.9145 - val_loss: 0.3050 - val_accuracy: 0.8795\n",
            "Epoch 51/200\n",
            "47/47 [==============================] - 10s 207ms/step - loss: 0.2286 - accuracy: 0.9115 - val_loss: 0.2388 - val_accuracy: 0.9088\n",
            "Epoch 52/200\n",
            "47/47 [==============================] - 10s 205ms/step - loss: 0.2230 - accuracy: 0.9172 - val_loss: 0.3097 - val_accuracy: 0.8755\n",
            "Epoch 53/200\n",
            "47/47 [==============================] - 10s 205ms/step - loss: 0.2065 - accuracy: 0.9267 - val_loss: 0.3718 - val_accuracy: 0.8398\n",
            "Epoch 54/200\n",
            "47/47 [==============================] - 10s 206ms/step - loss: 0.2055 - accuracy: 0.9235 - val_loss: 0.3083 - val_accuracy: 0.8712\n",
            "Epoch 55/200\n",
            "47/47 [==============================] - 10s 206ms/step - loss: 0.1952 - accuracy: 0.9277 - val_loss: 0.3438 - val_accuracy: 0.8620\n",
            "Epoch 56/200\n",
            "47/47 [==============================] - 10s 206ms/step - loss: 0.2132 - accuracy: 0.9232 - val_loss: 0.2340 - val_accuracy: 0.9095\n",
            "Epoch 57/200\n",
            "47/47 [==============================] - 10s 204ms/step - loss: 0.1924 - accuracy: 0.9280 - val_loss: 0.6971 - val_accuracy: 0.7613\n",
            "Epoch 58/200\n",
            "47/47 [==============================] - 10s 206ms/step - loss: 0.1979 - accuracy: 0.9243 - val_loss: 0.3392 - val_accuracy: 0.8620\n",
            "Epoch 59/200\n",
            "47/47 [==============================] - 10s 205ms/step - loss: 0.1976 - accuracy: 0.9275 - val_loss: 0.3106 - val_accuracy: 0.8728\n",
            "Epoch 60/200\n",
            "47/47 [==============================] - 10s 206ms/step - loss: 0.1887 - accuracy: 0.9317 - val_loss: 0.2776 - val_accuracy: 0.8883\n",
            "Epoch 61/200\n",
            "47/47 [==============================] - 10s 206ms/step - loss: 0.1668 - accuracy: 0.9360 - val_loss: 0.2853 - val_accuracy: 0.8925\n",
            "Epoch 62/200\n",
            "47/47 [==============================] - 10s 205ms/step - loss: 0.1801 - accuracy: 0.9320 - val_loss: 0.4380 - val_accuracy: 0.8215\n",
            "Epoch 63/200\n",
            "47/47 [==============================] - 10s 205ms/step - loss: 0.1689 - accuracy: 0.9367 - val_loss: 0.3652 - val_accuracy: 0.8667\n",
            "Epoch 64/200\n",
            "47/47 [==============================] - 10s 204ms/step - loss: 0.1701 - accuracy: 0.9392 - val_loss: 0.2677 - val_accuracy: 0.8977\n",
            "Epoch 65/200\n",
            "47/47 [==============================] - 10s 206ms/step - loss: 0.1626 - accuracy: 0.9400 - val_loss: 0.4889 - val_accuracy: 0.8182\n",
            "Epoch 66/200\n",
            "47/47 [==============================] - 10s 206ms/step - loss: 0.1776 - accuracy: 0.9343 - val_loss: 0.3224 - val_accuracy: 0.8645\n",
            "Epoch 67/200\n",
            "47/47 [==============================] - 10s 207ms/step - loss: 0.1743 - accuracy: 0.9383 - val_loss: 0.2681 - val_accuracy: 0.8953\n",
            "Epoch 68/200\n",
            "47/47 [==============================] - 10s 206ms/step - loss: 0.1545 - accuracy: 0.9423 - val_loss: 0.3504 - val_accuracy: 0.8587\n",
            "Epoch 69/200\n",
            "47/47 [==============================] - 10s 205ms/step - loss: 0.1660 - accuracy: 0.9403 - val_loss: 0.3622 - val_accuracy: 0.8540\n",
            "Epoch 70/200\n",
            "47/47 [==============================] - 10s 205ms/step - loss: 0.1659 - accuracy: 0.9390 - val_loss: 0.2072 - val_accuracy: 0.9190\n",
            "Epoch 71/200\n",
            "47/47 [==============================] - 10s 205ms/step - loss: 0.1488 - accuracy: 0.9468 - val_loss: 0.2356 - val_accuracy: 0.9075\n",
            "Epoch 72/200\n",
            "47/47 [==============================] - 10s 221ms/step - loss: 0.1474 - accuracy: 0.9448 - val_loss: 0.3047 - val_accuracy: 0.8773\n",
            "Epoch 73/200\n",
            "47/47 [==============================] - 10s 204ms/step - loss: 0.1550 - accuracy: 0.9467 - val_loss: 0.2366 - val_accuracy: 0.9148\n",
            "Epoch 74/200\n",
            "47/47 [==============================] - 10s 205ms/step - loss: 0.1484 - accuracy: 0.9473 - val_loss: 0.3738 - val_accuracy: 0.8503\n",
            "Epoch 75/200\n",
            "47/47 [==============================] - 10s 205ms/step - loss: 0.1339 - accuracy: 0.9472 - val_loss: 0.2089 - val_accuracy: 0.9222\n",
            "Epoch 76/200\n",
            "47/47 [==============================] - 10s 204ms/step - loss: 0.1344 - accuracy: 0.9515 - val_loss: 0.3805 - val_accuracy: 0.8518\n",
            "Epoch 77/200\n",
            "47/47 [==============================] - 10s 207ms/step - loss: 0.1335 - accuracy: 0.9510 - val_loss: 0.2349 - val_accuracy: 0.9123\n",
            "Epoch 78/200\n",
            "47/47 [==============================] - 10s 205ms/step - loss: 0.1366 - accuracy: 0.9513 - val_loss: 0.2480 - val_accuracy: 0.9053\n",
            "Epoch 79/200\n",
            "47/47 [==============================] - 10s 205ms/step - loss: 0.1417 - accuracy: 0.9492 - val_loss: 0.3797 - val_accuracy: 0.8522\n",
            "Epoch 80/200\n",
            "47/47 [==============================] - 10s 204ms/step - loss: 0.1373 - accuracy: 0.9552 - val_loss: 0.2131 - val_accuracy: 0.9168\n",
            "Epoch 81/200\n",
            "47/47 [==============================] - 10s 205ms/step - loss: 0.1393 - accuracy: 0.9480 - val_loss: 1.2351 - val_accuracy: 0.6302\n",
            "Epoch 82/200\n",
            "47/47 [==============================] - 10s 205ms/step - loss: 0.1167 - accuracy: 0.9545 - val_loss: 0.2734 - val_accuracy: 0.8915\n",
            "Epoch 83/200\n",
            "47/47 [==============================] - 10s 205ms/step - loss: 0.1318 - accuracy: 0.9510 - val_loss: 0.2580 - val_accuracy: 0.9080\n",
            "Epoch 84/200\n",
            "47/47 [==============================] - 10s 206ms/step - loss: 0.1251 - accuracy: 0.9523 - val_loss: 0.2175 - val_accuracy: 0.9200\n",
            "Epoch 85/200\n",
            "47/47 [==============================] - 10s 204ms/step - loss: 0.1218 - accuracy: 0.9560 - val_loss: 0.2425 - val_accuracy: 0.9073\n",
            "Epoch 86/200\n",
            "47/47 [==============================] - 10s 204ms/step - loss: 0.1237 - accuracy: 0.9558 - val_loss: 0.2247 - val_accuracy: 0.9133\n",
            "Epoch 87/200\n",
            "47/47 [==============================] - 10s 204ms/step - loss: 0.1220 - accuracy: 0.9598 - val_loss: 0.2109 - val_accuracy: 0.9197\n",
            "Epoch 88/200\n",
            "47/47 [==============================] - 10s 204ms/step - loss: 0.1230 - accuracy: 0.9565 - val_loss: 0.2135 - val_accuracy: 0.9147\n",
            "Epoch 89/200\n",
            "47/47 [==============================] - 10s 205ms/step - loss: 0.1108 - accuracy: 0.9612 - val_loss: 0.2166 - val_accuracy: 0.9150\n",
            "Epoch 90/200\n",
            "47/47 [==============================] - 10s 206ms/step - loss: 0.1199 - accuracy: 0.9567 - val_loss: 0.1659 - val_accuracy: 0.9393\n",
            "Epoch 91/200\n",
            "47/47 [==============================] - 10s 205ms/step - loss: 0.1132 - accuracy: 0.9578 - val_loss: 0.2573 - val_accuracy: 0.8977\n",
            "Epoch 92/200\n",
            "47/47 [==============================] - 10s 205ms/step - loss: 0.1097 - accuracy: 0.9603 - val_loss: 0.1793 - val_accuracy: 0.9325\n",
            "Epoch 93/200\n",
            "47/47 [==============================] - 10s 206ms/step - loss: 0.1126 - accuracy: 0.9595 - val_loss: 0.2043 - val_accuracy: 0.9260\n",
            "Epoch 94/200\n",
            "47/47 [==============================] - 10s 205ms/step - loss: 0.1109 - accuracy: 0.9600 - val_loss: 0.2050 - val_accuracy: 0.9213\n",
            "Epoch 95/200\n",
            "47/47 [==============================] - 10s 205ms/step - loss: 0.1110 - accuracy: 0.9617 - val_loss: 0.3972 - val_accuracy: 0.8693\n",
            "Epoch 96/200\n",
            "47/47 [==============================] - 10s 205ms/step - loss: 0.1076 - accuracy: 0.9625 - val_loss: 0.4011 - val_accuracy: 0.8357\n",
            "Epoch 97/200\n",
            "47/47 [==============================] - 10s 205ms/step - loss: 0.1091 - accuracy: 0.9597 - val_loss: 0.2310 - val_accuracy: 0.9157\n",
            "Epoch 98/200\n",
            "47/47 [==============================] - 10s 205ms/step - loss: 0.1045 - accuracy: 0.9615 - val_loss: 0.3068 - val_accuracy: 0.8908\n",
            "Epoch 99/200\n",
            "47/47 [==============================] - 10s 206ms/step - loss: 0.0972 - accuracy: 0.9667 - val_loss: 0.2837 - val_accuracy: 0.8928\n",
            "Epoch 100/200\n",
            "47/47 [==============================] - 10s 205ms/step - loss: 0.1117 - accuracy: 0.9588 - val_loss: 0.4227 - val_accuracy: 0.8337\n",
            "Epoch 101/200\n",
            "47/47 [==============================] - 10s 205ms/step - loss: 0.0910 - accuracy: 0.9692 - val_loss: 0.3591 - val_accuracy: 0.8512\n",
            "Epoch 102/200\n",
            "47/47 [==============================] - 10s 204ms/step - loss: 0.1085 - accuracy: 0.9613 - val_loss: 0.2206 - val_accuracy: 0.9177\n",
            "Epoch 103/200\n",
            "47/47 [==============================] - 10s 205ms/step - loss: 0.0996 - accuracy: 0.9672 - val_loss: 0.3494 - val_accuracy: 0.8723\n",
            "Epoch 104/200\n",
            "47/47 [==============================] - 10s 205ms/step - loss: 0.0914 - accuracy: 0.9670 - val_loss: 0.2560 - val_accuracy: 0.9075\n",
            "Epoch 105/200\n",
            "47/47 [==============================] - 10s 205ms/step - loss: 0.1021 - accuracy: 0.9642 - val_loss: 0.5492 - val_accuracy: 0.8155\n",
            "Epoch 106/200\n",
            "47/47 [==============================] - 10s 206ms/step - loss: 0.0899 - accuracy: 0.9682 - val_loss: 0.5315 - val_accuracy: 0.7875\n",
            "Epoch 107/200\n",
            "47/47 [==============================] - 10s 206ms/step - loss: 0.1029 - accuracy: 0.9640 - val_loss: 0.3429 - val_accuracy: 0.9008\n",
            "Epoch 108/200\n",
            "47/47 [==============================] - 10s 205ms/step - loss: 0.0921 - accuracy: 0.9667 - val_loss: 0.2457 - val_accuracy: 0.9033\n",
            "Epoch 109/200\n",
            "47/47 [==============================] - 10s 206ms/step - loss: 0.0925 - accuracy: 0.9673 - val_loss: 0.5308 - val_accuracy: 0.8068\n",
            "Epoch 110/200\n",
            "47/47 [==============================] - 10s 205ms/step - loss: 0.0893 - accuracy: 0.9683 - val_loss: 0.2218 - val_accuracy: 0.9213\n",
            "Epoch 111/200\n",
            "47/47 [==============================] - 10s 204ms/step - loss: 0.0913 - accuracy: 0.9672 - val_loss: 0.3814 - val_accuracy: 0.8537\n",
            "Epoch 112/200\n",
            "47/47 [==============================] - 10s 205ms/step - loss: 0.0943 - accuracy: 0.9665 - val_loss: 0.5001 - val_accuracy: 0.8443\n",
            "Epoch 113/200\n",
            "47/47 [==============================] - 10s 205ms/step - loss: 0.0873 - accuracy: 0.9690 - val_loss: 0.5163 - val_accuracy: 0.8282\n",
            "Epoch 114/200\n",
            "47/47 [==============================] - 10s 204ms/step - loss: 0.0929 - accuracy: 0.9700 - val_loss: 0.2489 - val_accuracy: 0.9133\n",
            "Epoch 115/200\n",
            "47/47 [==============================] - 10s 204ms/step - loss: 0.0889 - accuracy: 0.9682 - val_loss: 0.4002 - val_accuracy: 0.8528\n",
            "Epoch 116/200\n",
            "47/47 [==============================] - 10s 205ms/step - loss: 0.0894 - accuracy: 0.9700 - val_loss: 0.1854 - val_accuracy: 0.9327\n",
            "Epoch 117/200\n",
            "47/47 [==============================] - 10s 205ms/step - loss: 0.0921 - accuracy: 0.9675 - val_loss: 0.3692 - val_accuracy: 0.8590\n",
            "Epoch 118/200\n",
            "47/47 [==============================] - 10s 204ms/step - loss: 0.0771 - accuracy: 0.9715 - val_loss: 0.2072 - val_accuracy: 0.9247\n",
            "Epoch 119/200\n",
            "47/47 [==============================] - 10s 206ms/step - loss: 0.0928 - accuracy: 0.9692 - val_loss: 0.2349 - val_accuracy: 0.9128\n",
            "Epoch 120/200\n",
            "47/47 [==============================] - 10s 205ms/step - loss: 0.0820 - accuracy: 0.9728 - val_loss: 0.4579 - val_accuracy: 0.8360\n",
            "Epoch 121/200\n",
            "47/47 [==============================] - 10s 204ms/step - loss: 0.0844 - accuracy: 0.9707 - val_loss: 0.2727 - val_accuracy: 0.9068\n",
            "Epoch 122/200\n",
            "47/47 [==============================] - 10s 207ms/step - loss: 0.0958 - accuracy: 0.9698 - val_loss: 0.2122 - val_accuracy: 0.9252\n",
            "Epoch 123/200\n",
            "47/47 [==============================] - 10s 205ms/step - loss: 0.0800 - accuracy: 0.9718 - val_loss: 0.2639 - val_accuracy: 0.9103\n",
            "Epoch 124/200\n",
            "47/47 [==============================] - 10s 204ms/step - loss: 0.0828 - accuracy: 0.9730 - val_loss: 0.4346 - val_accuracy: 0.8467\n",
            "Epoch 125/200\n",
            "47/47 [==============================] - 10s 206ms/step - loss: 0.0821 - accuracy: 0.9700 - val_loss: 0.2360 - val_accuracy: 0.9090\n",
            "Epoch 126/200\n",
            "47/47 [==============================] - 10s 205ms/step - loss: 0.0812 - accuracy: 0.9725 - val_loss: 0.2680 - val_accuracy: 0.9123\n",
            "Epoch 127/200\n",
            "47/47 [==============================] - 10s 204ms/step - loss: 0.0788 - accuracy: 0.9712 - val_loss: 0.3137 - val_accuracy: 0.8932\n",
            "Epoch 128/200\n",
            "47/47 [==============================] - 10s 204ms/step - loss: 0.0798 - accuracy: 0.9717 - val_loss: 0.2434 - val_accuracy: 0.9102\n",
            "Epoch 129/200\n",
            "47/47 [==============================] - 10s 205ms/step - loss: 0.0763 - accuracy: 0.9737 - val_loss: 0.4418 - val_accuracy: 0.8525\n",
            "Epoch 130/200\n",
            "47/47 [==============================] - 10s 204ms/step - loss: 0.0834 - accuracy: 0.9733 - val_loss: 0.3469 - val_accuracy: 0.8807\n",
            "Epoch 131/200\n",
            "47/47 [==============================] - 10s 205ms/step - loss: 0.0697 - accuracy: 0.9748 - val_loss: 0.4019 - val_accuracy: 0.8615\n",
            "Epoch 132/200\n",
            "47/47 [==============================] - 10s 205ms/step - loss: 0.0779 - accuracy: 0.9767 - val_loss: 0.3574 - val_accuracy: 0.8842\n",
            "Epoch 133/200\n",
            "47/47 [==============================] - 10s 205ms/step - loss: 0.0755 - accuracy: 0.9743 - val_loss: 0.1983 - val_accuracy: 0.9263\n",
            "Epoch 134/200\n",
            "47/47 [==============================] - 10s 205ms/step - loss: 0.0746 - accuracy: 0.9740 - val_loss: 0.2419 - val_accuracy: 0.9250\n",
            "Epoch 135/200\n",
            "47/47 [==============================] - 10s 206ms/step - loss: 0.0740 - accuracy: 0.9727 - val_loss: 0.2204 - val_accuracy: 0.9242\n",
            "Epoch 136/200\n",
            "47/47 [==============================] - 10s 205ms/step - loss: 0.0804 - accuracy: 0.9747 - val_loss: 0.3506 - val_accuracy: 0.8717\n",
            "Epoch 137/200\n",
            "47/47 [==============================] - 10s 206ms/step - loss: 0.0752 - accuracy: 0.9757 - val_loss: 0.2835 - val_accuracy: 0.9012\n",
            "Epoch 138/200\n",
            "47/47 [==============================] - 10s 206ms/step - loss: 0.0814 - accuracy: 0.9725 - val_loss: 0.2262 - val_accuracy: 0.9203\n",
            "Epoch 139/200\n",
            "47/47 [==============================] - 10s 204ms/step - loss: 0.0723 - accuracy: 0.9730 - val_loss: 0.2801 - val_accuracy: 0.9075\n",
            "Epoch 140/200\n",
            "47/47 [==============================] - 10s 207ms/step - loss: 0.0700 - accuracy: 0.9772 - val_loss: 0.2162 - val_accuracy: 0.9228\n",
            "Epoch 141/200\n",
            "47/47 [==============================] - 10s 206ms/step - loss: 0.0754 - accuracy: 0.9743 - val_loss: 0.1739 - val_accuracy: 0.9345\n",
            "Epoch 142/200\n",
            "47/47 [==============================] - 10s 205ms/step - loss: 0.0658 - accuracy: 0.9767 - val_loss: 0.2937 - val_accuracy: 0.8948\n",
            "Epoch 143/200\n",
            "47/47 [==============================] - 10s 205ms/step - loss: 0.0690 - accuracy: 0.9780 - val_loss: 0.3614 - val_accuracy: 0.8637\n",
            "Epoch 144/200\n",
            "47/47 [==============================] - 10s 205ms/step - loss: 0.0725 - accuracy: 0.9752 - val_loss: 0.2986 - val_accuracy: 0.8928\n",
            "Epoch 145/200\n",
            "47/47 [==============================] - 10s 204ms/step - loss: 0.0642 - accuracy: 0.9752 - val_loss: 0.4464 - val_accuracy: 0.8367\n",
            "Epoch 146/200\n",
            "47/47 [==============================] - 10s 204ms/step - loss: 0.0729 - accuracy: 0.9723 - val_loss: 0.6578 - val_accuracy: 0.8077\n",
            "Epoch 147/200\n",
            "47/47 [==============================] - 10s 205ms/step - loss: 0.0620 - accuracy: 0.9782 - val_loss: 0.1861 - val_accuracy: 0.9408\n",
            "Epoch 148/200\n",
            "47/47 [==============================] - 10s 205ms/step - loss: 0.0612 - accuracy: 0.9805 - val_loss: 0.2539 - val_accuracy: 0.9072\n",
            "Epoch 149/200\n",
            "47/47 [==============================] - 10s 205ms/step - loss: 0.0791 - accuracy: 0.9755 - val_loss: 0.2520 - val_accuracy: 0.9065\n",
            "Epoch 150/200\n",
            "47/47 [==============================] - 10s 204ms/step - loss: 0.0662 - accuracy: 0.9783 - val_loss: 0.2889 - val_accuracy: 0.8925\n",
            "Epoch 151/200\n",
            "47/47 [==============================] - 10s 205ms/step - loss: 0.0598 - accuracy: 0.9788 - val_loss: 0.3383 - val_accuracy: 0.8857\n",
            "Epoch 152/200\n",
            "47/47 [==============================] - 10s 204ms/step - loss: 0.0623 - accuracy: 0.9785 - val_loss: 0.1948 - val_accuracy: 0.9418\n",
            "Epoch 153/200\n",
            "47/47 [==============================] - 10s 205ms/step - loss: 0.0667 - accuracy: 0.9777 - val_loss: 0.4478 - val_accuracy: 0.8658\n",
            "Epoch 154/200\n",
            "47/47 [==============================] - 10s 206ms/step - loss: 0.0650 - accuracy: 0.9760 - val_loss: 0.3476 - val_accuracy: 0.8788\n",
            "Epoch 155/200\n",
            "47/47 [==============================] - 10s 204ms/step - loss: 0.0629 - accuracy: 0.9793 - val_loss: 0.2304 - val_accuracy: 0.9288\n",
            "Epoch 156/200\n",
            "47/47 [==============================] - 10s 205ms/step - loss: 0.0613 - accuracy: 0.9795 - val_loss: 0.2043 - val_accuracy: 0.9358\n",
            "Epoch 157/200\n",
            "47/47 [==============================] - 10s 206ms/step - loss: 0.0669 - accuracy: 0.9763 - val_loss: 0.2989 - val_accuracy: 0.9077\n",
            "Epoch 158/200\n",
            "47/47 [==============================] - 10s 205ms/step - loss: 0.0546 - accuracy: 0.9800 - val_loss: 0.6336 - val_accuracy: 0.7967\n",
            "Epoch 159/200\n",
            "47/47 [==============================] - 10s 205ms/step - loss: 0.0577 - accuracy: 0.9778 - val_loss: 0.2135 - val_accuracy: 0.9250\n",
            "Epoch 160/200\n",
            "47/47 [==============================] - 10s 205ms/step - loss: 0.0706 - accuracy: 0.9773 - val_loss: 0.1959 - val_accuracy: 0.9332\n",
            "Epoch 161/200\n",
            "47/47 [==============================] - 10s 207ms/step - loss: 0.0528 - accuracy: 0.9813 - val_loss: 0.3290 - val_accuracy: 0.8910\n",
            "Epoch 162/200\n",
            "47/47 [==============================] - 10s 204ms/step - loss: 0.0690 - accuracy: 0.9753 - val_loss: 0.2321 - val_accuracy: 0.9310\n",
            "Epoch 163/200\n",
            "47/47 [==============================] - 10s 205ms/step - loss: 0.0626 - accuracy: 0.9812 - val_loss: 0.1872 - val_accuracy: 0.9408\n",
            "Epoch 164/200\n",
            "47/47 [==============================] - 10s 204ms/step - loss: 0.0594 - accuracy: 0.9803 - val_loss: 0.2454 - val_accuracy: 0.9197\n",
            "Epoch 165/200\n",
            "47/47 [==============================] - 10s 206ms/step - loss: 0.0725 - accuracy: 0.9745 - val_loss: 0.4032 - val_accuracy: 0.8893\n",
            "Epoch 166/200\n",
            "47/47 [==============================] - 10s 205ms/step - loss: 0.0737 - accuracy: 0.9752 - val_loss: 0.2572 - val_accuracy: 0.9133\n",
            "Epoch 167/200\n",
            "47/47 [==============================] - 10s 205ms/step - loss: 0.0548 - accuracy: 0.9817 - val_loss: 0.5760 - val_accuracy: 0.8505\n",
            "Epoch 168/200\n",
            "47/47 [==============================] - 10s 204ms/step - loss: 0.0680 - accuracy: 0.9763 - val_loss: 0.2055 - val_accuracy: 0.9357\n",
            "Epoch 169/200\n",
            "47/47 [==============================] - 10s 205ms/step - loss: 0.0619 - accuracy: 0.9792 - val_loss: 0.3842 - val_accuracy: 0.9025\n",
            "Epoch 170/200\n",
            "47/47 [==============================] - 10s 206ms/step - loss: 0.0486 - accuracy: 0.9858 - val_loss: 0.3116 - val_accuracy: 0.9073\n",
            "Epoch 171/200\n",
            "47/47 [==============================] - 10s 204ms/step - loss: 0.0675 - accuracy: 0.9792 - val_loss: 0.3355 - val_accuracy: 0.8945\n",
            "Epoch 172/200\n",
            "47/47 [==============================] - 10s 204ms/step - loss: 0.0640 - accuracy: 0.9773 - val_loss: 0.2680 - val_accuracy: 0.8998\n",
            "Epoch 173/200\n",
            "47/47 [==============================] - 10s 205ms/step - loss: 0.0646 - accuracy: 0.9780 - val_loss: 0.2582 - val_accuracy: 0.9100\n",
            "Epoch 174/200\n",
            "47/47 [==============================] - 10s 205ms/step - loss: 0.0524 - accuracy: 0.9823 - val_loss: 0.3284 - val_accuracy: 0.8845\n",
            "Epoch 175/200\n",
            "47/47 [==============================] - 10s 206ms/step - loss: 0.0575 - accuracy: 0.9800 - val_loss: 0.2585 - val_accuracy: 0.9132\n",
            "Epoch 176/200\n",
            "47/47 [==============================] - 10s 204ms/step - loss: 0.0577 - accuracy: 0.9810 - val_loss: 0.2775 - val_accuracy: 0.9173\n",
            "Epoch 177/200\n",
            "47/47 [==============================] - 10s 204ms/step - loss: 0.0589 - accuracy: 0.9808 - val_loss: 0.3398 - val_accuracy: 0.8910\n",
            "Epoch 178/200\n",
            "47/47 [==============================] - 10s 204ms/step - loss: 0.0636 - accuracy: 0.9787 - val_loss: 0.2167 - val_accuracy: 0.9315\n",
            "Epoch 179/200\n",
            "47/47 [==============================] - 10s 204ms/step - loss: 0.0562 - accuracy: 0.9802 - val_loss: 0.3789 - val_accuracy: 0.8562\n",
            "Epoch 180/200\n",
            "47/47 [==============================] - 10s 204ms/step - loss: 0.0532 - accuracy: 0.9802 - val_loss: 0.2055 - val_accuracy: 0.9337\n",
            "Epoch 181/200\n",
            "47/47 [==============================] - 10s 205ms/step - loss: 0.0603 - accuracy: 0.9825 - val_loss: 0.3374 - val_accuracy: 0.8813\n",
            "Epoch 182/200\n",
            "47/47 [==============================] - 10s 204ms/step - loss: 0.0578 - accuracy: 0.9805 - val_loss: 0.1844 - val_accuracy: 0.9417\n",
            "Epoch 183/200\n",
            "47/47 [==============================] - 10s 205ms/step - loss: 0.0672 - accuracy: 0.9785 - val_loss: 0.2408 - val_accuracy: 0.9253\n",
            "Epoch 184/200\n",
            "47/47 [==============================] - 10s 205ms/step - loss: 0.0501 - accuracy: 0.9850 - val_loss: 0.2526 - val_accuracy: 0.9242\n",
            "Epoch 185/200\n",
            "47/47 [==============================] - 10s 207ms/step - loss: 0.0553 - accuracy: 0.9822 - val_loss: 0.2415 - val_accuracy: 0.9342\n",
            "Epoch 186/200\n",
            "47/47 [==============================] - 10s 205ms/step - loss: 0.0608 - accuracy: 0.9810 - val_loss: 0.2800 - val_accuracy: 0.8975\n",
            "Epoch 187/200\n",
            "47/47 [==============================] - 10s 204ms/step - loss: 0.0577 - accuracy: 0.9805 - val_loss: 0.2054 - val_accuracy: 0.9353\n",
            "Epoch 188/200\n",
            "47/47 [==============================] - 10s 204ms/step - loss: 0.0558 - accuracy: 0.9815 - val_loss: 0.3237 - val_accuracy: 0.8968\n",
            "Epoch 189/200\n",
            "47/47 [==============================] - 10s 206ms/step - loss: 0.0505 - accuracy: 0.9810 - val_loss: 0.4669 - val_accuracy: 0.8812\n",
            "Epoch 190/200\n",
            "47/47 [==============================] - 10s 206ms/step - loss: 0.0632 - accuracy: 0.9783 - val_loss: 0.3603 - val_accuracy: 0.8895\n",
            "Epoch 191/200\n",
            "47/47 [==============================] - 10s 205ms/step - loss: 0.0576 - accuracy: 0.9823 - val_loss: 0.9737 - val_accuracy: 0.6928\n",
            "Epoch 192/200\n",
            "47/47 [==============================] - 10s 205ms/step - loss: 0.0634 - accuracy: 0.9797 - val_loss: 0.2035 - val_accuracy: 0.9275\n",
            "Epoch 193/200\n",
            "47/47 [==============================] - 10s 204ms/step - loss: 0.0465 - accuracy: 0.9845 - val_loss: 0.1939 - val_accuracy: 0.9398\n",
            "Epoch 194/200\n",
            "47/47 [==============================] - 10s 205ms/step - loss: 0.0523 - accuracy: 0.9828 - val_loss: 0.2461 - val_accuracy: 0.9205\n",
            "Epoch 195/200\n",
            "47/47 [==============================] - 10s 204ms/step - loss: 0.0495 - accuracy: 0.9825 - val_loss: 1.1602 - val_accuracy: 0.7628\n",
            "Epoch 196/200\n",
            "47/47 [==============================] - 10s 204ms/step - loss: 0.0475 - accuracy: 0.9842 - val_loss: 0.2135 - val_accuracy: 0.9278\n",
            "Epoch 197/200\n",
            "47/47 [==============================] - 10s 205ms/step - loss: 0.0525 - accuracy: 0.9840 - val_loss: 0.2486 - val_accuracy: 0.9268\n",
            "Epoch 198/200\n",
            "47/47 [==============================] - 10s 205ms/step - loss: 0.0596 - accuracy: 0.9810 - val_loss: 0.3959 - val_accuracy: 0.8693\n",
            "Epoch 199/200\n",
            "47/47 [==============================] - 10s 205ms/step - loss: 0.0518 - accuracy: 0.9827 - val_loss: 0.3044 - val_accuracy: 0.9130\n",
            "Epoch 200/200\n",
            "47/47 [==============================] - 10s 205ms/step - loss: 0.0527 - accuracy: 0.9837 - val_loss: 0.2230 - val_accuracy: 0.9337\n",
            "Model: \"model\"\n",
            "_________________________________________________________________\n",
            " Layer (type)                Output Shape              Param #   \n",
            "=================================================================\n",
            " input_1 (InputLayer)        [(None, 150, 150, 3)]     0         \n",
            "                                                                 \n",
            " sequential (Sequential)     (None, 150, 150, 3)       0         \n",
            "                                                                 \n",
            " conv2d (Conv2D)             (None, 148, 148, 32)      864       \n",
            "                                                                 \n",
            " batch_normalization (BatchN  (None, 148, 148, 32)     128       \n",
            " ormalization)                                                   \n",
            "                                                                 \n",
            " activation (Activation)     (None, 148, 148, 32)      0         \n",
            "                                                                 \n",
            " max_pooling2d (MaxPooling2D  (None, 74, 74, 32)       0         \n",
            " )                                                               \n",
            "                                                                 \n",
            " conv2d_1 (Conv2D)           (None, 72, 72, 64)        18432     \n",
            "                                                                 \n",
            " batch_normalization_1 (Batc  (None, 72, 72, 64)       256       \n",
            " hNormalization)                                                 \n",
            "                                                                 \n",
            " activation_1 (Activation)   (None, 72, 72, 64)        0         \n",
            "                                                                 \n",
            " max_pooling2d_1 (MaxPooling  (None, 36, 36, 64)       0         \n",
            " 2D)                                                             \n",
            "                                                                 \n",
            " conv2d_2 (Conv2D)           (None, 34, 34, 128)       73728     \n",
            "                                                                 \n",
            " batch_normalization_2 (Batc  (None, 34, 34, 128)      512       \n",
            " hNormalization)                                                 \n",
            "                                                                 \n",
            " activation_2 (Activation)   (None, 34, 34, 128)       0         \n",
            "                                                                 \n",
            " max_pooling2d_2 (MaxPooling  (None, 17, 17, 128)      0         \n",
            " 2D)                                                             \n",
            "                                                                 \n",
            " conv2d_3 (Conv2D)           (None, 15, 15, 256)       294912    \n",
            "                                                                 \n",
            " batch_normalization_3 (Batc  (None, 15, 15, 256)      1024      \n",
            " hNormalization)                                                 \n",
            "                                                                 \n",
            " activation_3 (Activation)   (None, 15, 15, 256)       0         \n",
            "                                                                 \n",
            " flatten (Flatten)           (None, 57600)             0         \n",
            "                                                                 \n",
            " dropout (Dropout)           (None, 57600)             0         \n",
            "                                                                 \n",
            " dense (Dense)               (None, 3)                 172803    \n",
            "                                                                 \n",
            "=================================================================\n",
            "Total params: 562,659\n",
            "Trainable params: 561,699\n",
            "Non-trainable params: 960\n",
            "_________________________________________________________________\n"
          ]
        }
      ],
      "source": [
        "\n",
        "inputs = keras.Input(shape=(150, 150, 3))\n",
        "x = data_augmentation(inputs)\n",
        "#x = layers.Rescaling(1./255)(x)\n",
        "#x = layers.Conv2D(filters=32, kernel_size=3, use_bias=False)(x)\n",
        "#x = layers.BatchNormalization()(x)\n",
        "#x = layers.Activation(\"relu\")(x)\n",
        "x = layers.Conv2D(filters=32, kernel_size=3, use_bias=False)(x)\n",
        "x = layers.BatchNormalization()(x)\n",
        "x = layers.Activation(\"relu\")(x)\n",
        "x = layers.MaxPooling2D(pool_size=2)(x)\n",
        "\n",
        "#x = layers.Conv2D(filters=64, kernel_size=3, use_bias=False)(x)\n",
        "#x = layers.BatchNormalization()(x)\n",
        "#x = layers.Activation(\"relu\")(x)\n",
        "x = layers.Conv2D(filters=64, kernel_size=3, use_bias=False)(x)\n",
        "x = layers.BatchNormalization()(x)\n",
        "x = layers.Activation(\"relu\")(x)\n",
        "x = layers.MaxPooling2D(pool_size=2)(x)\n",
        "\n",
        "#x = layers.Conv2D(filters=128, kernel_size=3, use_bias=False)(x)\n",
        "#x = layers.BatchNormalization()(x)\n",
        "#x = layers.Activation(\"relu\")(x)\n",
        "x = layers.Conv2D(filters=128, kernel_size=3, use_bias=False)(x)\n",
        "x = layers.BatchNormalization()(x)\n",
        "x = layers.Activation(\"relu\")(x)\n",
        "x = layers.MaxPooling2D(pool_size=2)(x)\n",
        "\n",
        "x = layers.Conv2D(filters=256, kernel_size=3, use_bias=False)(x)\n",
        "x = layers.BatchNormalization()(x)\n",
        "x = layers.Activation(\"relu\")(x)\n",
        "#x = layers.MaxPooling2D(pool_size=2)(x)\n",
        "#x = layers.Conv2D(filters=256, kernel_size=3, use_bias=False)(x)\n",
        "#x = layers.BatchNormalization()(x)\n",
        "#x = layers.Activation(\"relu\")(x)\n",
        "#x = layers.MaxPooling2D(pool_size=2)(x)\n",
        "\n",
        "#x = layers.Conv2D(filters=512, kernel_size=3, use_bias=False)(x)\n",
        "#x = layers.BatchNormalization()(x)\n",
        "#x = layers.Activation(\"relu\")(x)\n",
        "\n",
        "'''\n",
        "inputs = keras.Input(shape=(150, 150, 3))\n",
        "x = layers.Rescaling(1./255)(inputs)\n",
        "x = layers.Conv2D(filters=32, kernel_size=3, activation=\"relu\", padding = 'same')(x)\n",
        "x = layers.MaxPooling2D(pool_size=2)(x)\n",
        "x = layers.Conv2D(filters=64, kernel_size=3, activation=\"relu\", padding = 'same')(x)\n",
        "x = layers.MaxPooling2D(pool_size=2)(x)\n",
        "x = layers.Conv2D(filters=128, kernel_size=3, activation=\"relu\", padding = 'same')(x)\n",
        "x = layers.MaxPooling2D(pool_size=2)(x)\n",
        "x = layers.Conv2D(filters=256, kernel_size=3, activation=\"relu\", padding = 'same')(x)\n",
        "x = layers.MaxPooling2D(pool_size=2)(x)\n",
        "x = layers.Conv2D(filters=256, kernel_size=3, activation=\"relu\", padding = 'same')(x)\n",
        "x = layers.MaxPooling2D(pool_size=1)(x)\n",
        "x = layers.Conv2D(filters=256, kernel_size=3, activation=\"relu\")(x)\n",
        "x = layers.MaxPooling2D(pool_size=2)(x)\n",
        "x = layers.Conv2D(filters=256, kernel_size=3, activation=\"relu\")(x)\n",
        "x = layers.MaxPooling2D(pool_size=1)(x)\n",
        "x = layers.Conv2D(filters=256, kernel_size=3, activation=\"relu\")(x)\n",
        "x = layers.MaxPooling2D(pool_size=2)(x)\n",
        "x = layers.Conv2D(filters=256, kernel_size=3, activation=\"relu\")(x)\n",
        "x = layers.MaxPooling2D(pool_size=1)(x)\n",
        "x = layers.Conv2D(filters=256, kernel_size=3, activation=\"relu\")(x)\n",
        "x = layers.MaxPooling2D(pool_size=2)(x)\n",
        "x = layers.Conv2D(filters=256, kernel_size=3, activation=\"relu\")(x)\n",
        "x = layers.MaxPooling2D(pool_size=2)(x)\n",
        "x = layers.Conv2D(filters=256, kernel_size=3, activation=\"relu\")(x)'''\n",
        "x = layers.Flatten()(x)\n",
        "x = layers.Dropout(0.5)(x)\n",
        "outputs = layers.Dense(3, activation=\"softmax\")(x)\n",
        "model = keras.Model(inputs=inputs, outputs=outputs)\n",
        "\n",
        "model.compile(loss=\"sparse_categorical_crossentropy\",\n",
        "              optimizer=\"rmsprop\",\n",
        "              metrics=[\"accuracy\"])\n",
        "\n",
        "history = model.fit(Images_train,\n",
        "                    Etiquetas_train,\n",
        "                    epochs = 200,\n",
        "                    batch_size=128,\n",
        "                    validation_data=(Images_val,Etiquetas_val),\n",
        "                    callbacks = callbacks)\n",
        "\n",
        "model.summary()\n"
      ]
    },
    {
      "cell_type": "code",
      "execution_count": null,
      "metadata": {
        "colab": {
          "base_uri": "https://localhost:8080/"
        },
        "id": "41kq9ICPgEJG",
        "outputId": "5bd2dded-8388-4e8f-d9b9-d6118ec2e610"
      },
      "outputs": [
        {
          "output_type": "stream",
          "name": "stdout",
          "text": [
            "104/104 [==============================] - 1s 12ms/step - loss: 0.2209 - accuracy: 0.9288\n"
          ]
        }
      ],
      "source": [
        "test_metrics = model.evaluate(Images_test, Etiquetas_test)"
      ]
    },
    {
      "cell_type": "code",
      "source": [
        "model.export(export_dir=\".\",with_metadata=False)"
      ],
      "metadata": {
        "id": "4t0e2DoU4Zae"
      },
      "execution_count": null,
      "outputs": []
    },
    {
      "cell_type": "code",
      "execution_count": null,
      "metadata": {
        "id": "fpIrigWuFezE"
      },
      "outputs": [],
      "source": [
        "\n",
        "predecir_1 = \"/content/drive/MyDrive/Dataset2/data/predecir\"\n",
        "predecir_l = []\n",
        "img_size3 = 150\n",
        "\n",
        "\n",
        "\n",
        "for img3 in os.listdir(predecir_1):\n",
        "  img3 = cv2.imread(os.path.join(predecir_1,img3))\n",
        "# img_gray = cv2.cvtColor(img,cv2.COLOR_BGR2GRAY)\n",
        "  img_gray_resize3 = cv2.resize( img3,(img_size3,img_size3))\n",
        "  predecir_l.append([img_gray_resize3])\n",
        "#  print(len(Drag_train))\n",
        "#  print(Drag_train)\n"
      ]
    },
    {
      "cell_type": "code",
      "execution_count": null,
      "metadata": {
        "id": "Qgz9m0wnHN_6"
      },
      "outputs": [],
      "source": [
        "predecir_l = np.array(predecir_l)"
      ]
    },
    {
      "cell_type": "code",
      "execution_count": null,
      "metadata": {
        "id": "YGcC-H50J7S4"
      },
      "outputs": [],
      "source": [
        "predecir_l = predecir_l.astype(\"float32\") / 255"
      ]
    },
    {
      "cell_type": "code",
      "execution_count": null,
      "metadata": {
        "colab": {
          "base_uri": "https://localhost:8080/",
          "height": 324
        },
        "id": "RAjRLAm-Hdqs",
        "outputId": "9ac17d17-41f5-4811-b8be-50368c43c0b7"
      },
      "outputs": [
        {
          "output_type": "stream",
          "name": "stdout",
          "text": [
            "1/1 [==============================] - 0s 15ms/step\n"
          ]
        },
        {
          "output_type": "display_data",
          "data": {
            "text/plain": [
              "<Figure size 432x288 with 2 Axes>"
            ],
            "image/png": "[encoded data removed]"
          },
          "metadata": {
            "needs_background": "light"
          }
        },
        {
          "output_type": "stream",
          "name": "stdout",
          "text": [
            "[[1.0000000e+00 9.6050858e-19 2.8732465e-08]]\n",
            "0\n"
          ]
        }
      ],
      "source": [
        "import matplotlib.pyplot as plt\n",
        "#images_test\n",
        "i = 12\n",
        "plt.figure()\n",
        "plt.imshow(np.squeeze(predecir_l[i]))\n",
        "#plt.imshow(np.squeeze(Images_test[1100]))\n",
        "#print(Etiquetas_val[3999])\n",
        "predict_single = model.predict(predecir_l[i])\n",
        "\n",
        "plt.colorbar()\n",
        "plt.grid(False)\n",
        "plt.show()\n",
        "print(predict_single)\n",
        "print(np.argmax(predict_single))"
      ]
    },
    {
      "cell_type": "code",
      "execution_count": null,
      "metadata": {
        "colab": {
          "base_uri": "https://localhost:8080/"
        },
        "id": "n1X-eikCFPPl",
        "outputId": "b147b5fd-9fb2-47b9-9eeb-bcda438e2cdb"
      },
      "outputs": [
        {
          "name": "stdout",
          "output_type": "stream",
          "text": [
            "1/1 [==============================] - 0s 18ms/step\n",
            "[[2.9824945e-05 9.9988616e-01 8.3994979e-05]]\n",
            "1\n"
          ]
        }
      ],
      "source": [
        "\n",
        "predict_single = model.predict(predecir_l[25])\n",
        "print(predict_single)\n",
        "print(np.argmax(predict_single))"
      ]
    },
    {
      "cell_type": "code",
      "execution_count": null,
      "metadata": {
        "colab": {
          "base_uri": "https://localhost:8080/"
        },
        "id": "lrbSH6maUeSV",
        "outputId": "f1678189-df29-4c72-a044-518125d89ee1"
      },
      "outputs": [
        {
          "data": {
            "text/plain": [
              "PosixPath('/content/drive/MyDrive/dataset/dataset/real/images/Drag')"
            ]
          },
          "execution_count": 6,
          "metadata": {},
          "output_type": "execute_result"
        }
      ],
      "source": [
        "#test_metrics = model.evaluate(Images_test, Etiquetas_test)\n",
        "import pathlib\n",
        "data_dir = pathlib.Path(\"/content/drive/MyDrive/dataset/dataset/real/images/Drag\")\n",
        "data_dir"
      ]
    },
    {
      "cell_type": "code",
      "execution_count": null,
      "metadata": {
        "id": "JBFhTFG7O-mf"
      },
      "outputs": [],
      "source": [
        "import os, shutil, pathlib\n",
        "from pathlib import Path\n",
        "original_dir = pathlib.Path(\"/content/drive/MyDrive/dataset/dataset/real/images/Drag\")\n",
        "new_base_dir = pathlib.Path(\"/content/drive/MyDrive/dataset/dataset/real/images/Dragp\")\n",
        "\n",
        "\n",
        "\n",
        "steps_per_epoch=1,\n",
        "\n",
        "\n",
        "def make_subset(subset_name, start_index, end_index):\n",
        "    \n",
        "    dir = new_base_dir / subset_name \n",
        "    os.makedirs(dir)\n",
        "\n",
        "    for i in range(start_index, end_index):\n",
        "      shutil.copyfile(src=original_dir , dst = dir )       \n",
        "\n",
        "'''def make_subset(subset_name, start_index, end_index):\n",
        "  for category in (\"cat\",\"dog\"):\n",
        "    dir = new_base_dir / subset_name / category\n",
        "    os.makedirs(dir)\n",
        "    fnames = [f\"{category}.{i}.jpg\"\n",
        "             for i in range(start_index, end_index)]\n",
        "    for fname in fnames:\n",
        "      shutil.copyfile(src=original_dir / fname,\n",
        "                      dst = dir / fname)         \n",
        "'''    \n",
        "\n",
        "make_subset(\"train\", start_index=0, end_index=1000)\n",
        "make_subset(\"validation\", start_index=1000, end_index=1500)\n",
        "make_subset(\"test\", start_index=1500, end_index=2000)\n",
        "\n",
        "#make_subset(\"train\", start_index=0, end_index=10800)\n",
        "#make_subset(\"validation\", start_index=10800, end_index=16200)\n",
        "#make_subset(\"test\", start_index=16200, end_index=27000)\n",
        "\n",
        "#data_aumentation = keras.Sequential(\n",
        "#   [\n",
        "#        layers.RandomFlip(\"horizontal\"),\n",
        "#        layers.RandomRotation(0.1),\n",
        "#        layers.RandomZoom(0.2),\n",
        "#     \n",
        "#   ]\n",
        "#)"
      ]
    },
    {
      "cell_type": "code",
      "execution_count": null,
      "metadata": {
        "id": "5RNWqdcc8AMM"
      },
      "outputs": [],
      "source": [
        "from tensorflow.keras.utils import image_dataset_from_directory\n",
        "\n",
        "train_dataset = image_dataset_from_directory(\n",
        "    new_base_dir / \"train\",\n",
        "    image_size=(180, 180),\n",
        "    batch_size=32)\n",
        "validation_dataset = image_dataset_from_directory(\n",
        "    new_base_dir / \"validation\",\n",
        "    image_size=(180, 180),\n",
        "    batch_size=32)\n",
        "test_dataset = image_dataset_from_directory(\n",
        "    new_base_dir / \"test\",\n",
        "    image_size=(180, 180),\n",
        "    batch_size=32)\n",
        "\n",
        "\n"
      ]
    },
    {
      "cell_type": "code",
      "execution_count": null,
      "metadata": {
        "id": "KxvuFbaRC0TV"
      },
      "outputs": [],
      "source": [
        "import tensorflow as tf\n",
        "Drag_train = np.array(Drag_train)\n",
        "Drag_train = Drag_train.reshape((2000, 150, 150, 3)).astype(\"float32\") / 255\n",
        "train_images, val_images, test_images = Drag_train[0:800], Drag_train[800:1600], Drag_train[1600:2000]\n",
        "etiquetas_1 = np.repeat(0,800)\n",
        "etiquetas_2 = np.repeat(0,800)\n",
        "etiquetas_3 = np.repeat(0,400)\n",
        "#train_labels, val_labels = labels[10000:], labels[:10000]\n",
        "  \n",
        "#train_dataset = tf.data.Dataset.from_tensor_slices(train_images)\n",
        "#train_batched_dataset = train_dataset.batch(32)\n",
        "#for i, element in enumerate(train_batched_dataset):\n",
        "#  print(element.shape)\n",
        "#  if i >=2:\n",
        "#    break\n",
        "#print(train_images.shape)\n",
        "\n"
      ]
    },
    {
      "cell_type": "code",
      "execution_count": null,
      "metadata": {
        "colab": {
          "base_uri": "https://localhost:8080/"
        },
        "id": "owRqAzostKMt",
        "outputId": "08031f9b-6f59-4e34-906f-b9d5af5297c1"
      },
      "outputs": [
        {
          "name": "stdout",
          "output_type": "stream",
          "text": [
            "(2000, 150, 150, 3)\n"
          ]
        }
      ],
      "source": [
        "Loupe_train = np.array(Loupe_train)\n",
        "Loupe_train.shape = (2000, 150, 150, 3)\n",
        "print(Loupe_train.shape)"
      ]
    },
    {
      "cell_type": "code",
      "execution_count": null,
      "metadata": {
        "colab": {
          "base_uri": "https://localhost:8080/"
        },
        "id": "kgb72ooIV77s",
        "outputId": "87553c8f-1a0d-4598-9223-40a15ab6f7a0"
      },
      "outputs": [
        {
          "name": "stdout",
          "output_type": "stream",
          "text": [
            "(2000, 150, 150, 3)\n",
            "2000\n"
          ]
        }
      ],
      "source": [
        "Drag_train = np.array(Drag_train)\n",
        "Drag_train.shape = (2000, 150, 150, 3)\n",
        "n = Drag_train.shape[0]\n",
        "print(Drag_train.shape)\n",
        "print(n)"
      ]
    },
    {
      "cell_type": "code",
      "execution_count": null,
      "metadata": {
        "id": "ctBlexoaZeBn"
      },
      "outputs": [],
      "source": [
        "import matplotlib.pyplot as plt\n",
        "import tensorflow as ts\n",
        "from tensorflow import keras\n",
        "from tensorflow.keras.utils import load_img, img_to_array\n",
        "plt.axis(\"off\")\n",
        "plt.imshow(load_img(img[1]))\n"
      ]
    },
    {
      "cell_type": "code",
      "execution_count": null,
      "metadata": {
        "id": "ZOh58XeUh4Ok"
      },
      "outputs": [],
      "source": [
        "train = Drag_train[:1000]\n",
        "val = Drag_train[1000:1600]\n",
        "test = Drag_train[1600:2000]\n",
        "print(train.shape, val.shape, test.shape)"
      ]
    },
    {
      "cell_type": "code",
      "execution_count": null,
      "metadata": {
        "id": "EGD7uGEhpNCO"
      },
      "outputs": [],
      "source": [
        "import tensorflow as ts\n",
        "from tensorflow import keras\n",
        "from tensorflow.keras import layers\n",
        "from tensorflow.keras.utils import to_categorical\n",
        "#y_train = to_categorical(train_labels)\n",
        "#y_test = to_categorical(test_labels)\n",
        "\n",
        "model = keras.Sequential([\n",
        "    layers.Dense(64, activation=\"relu\"),\n",
        "    layers.Dense(64, activation=\"relu\"),\n",
        "    layers.Dense(2, activation=\"softmax\")  \n",
        "])\n",
        "model.compile(optimizer=\"rmsprop\",\n",
        "              loss=\"categorical_crossentropy\",\n",
        "              metrics=[\"accuracy\"])\n",
        "x_val = val\n",
        "partial_x_train = train\n",
        "y_val = y_train[:1000]\n",
        "partial_y_train = y_train[1000:]\n",
        "\n",
        "history = model.fit(partial_x_train,\n",
        "                    partial_y_train,\n",
        "                    epochs=20,\n",
        "                    batch_size=128,\n",
        "                    validation_data=(x_val, y_val))  "
      ]
    },
    {
      "cell_type": "code",
      "execution_count": null,
      "metadata": {
        "colab": {
          "base_uri": "https://localhost:8080/",
          "height": 276
        },
        "id": "3tT83_8qPSKK",
        "outputId": "7e8ff105-e598-4fa0-d874-460f64cefc2f"
      },
      "outputs": [
        {
          "data": {
            "image/png": "[encoded data removed]",
            "text/plain": [
              "<Figure size 432x288 with 2 Axes>"
            ]
          },
          "metadata": {},
          "output_type": "display_data"
        }
      ],
      "source": [
        "import matplotlib.pyplot as plt\n",
        "\n",
        "plt.figure()\n",
        "plt.imshow(np.squeeze(Drag_train[-2]))\n",
        "plt.colorbar()\n",
        "plt.grid(False)\n",
        "plt.show()"
      ]
    },
    {
      "cell_type": "code",
      "execution_count": null,
      "metadata": {
        "id": "pVIuLtwGsOMP"
      },
      "outputs": [],
      "source": [
        "images = np.concatenate([Loupe_train,Drag_train])\n",
        "print(len(images))\n",
        "Images = np.array(images)\n",
        "print(Images.shape)"
      ]
    },
    {
      "cell_type": "code",
      "execution_count": null,
      "metadata": {
        "id": "jf6rLcmKu_wS"
      },
      "outputs": [],
      "source": [
        "etiquetas_Loupe = np.repeat(0,2000)\n",
        "print(len(etiquetas_Loupe))\n",
        "print(etiquetas_Loupe)"
      ]
    },
    {
      "cell_type": "code",
      "execution_count": null,
      "metadata": {
        "id": "3ms0nEgQv1YR"
      },
      "outputs": [],
      "source": [
        "etiquetas_Drag = np.repeat(1,2000)\n",
        "print(len(etiquetas_Drag))\n",
        "print(etiquetas_Drag)"
      ]
    },
    {
      "cell_type": "code",
      "execution_count": null,
      "metadata": {
        "id": "GAJXJb3mwGUY"
      },
      "outputs": [],
      "source": [
        "class_names = [\"Loupe\",\"Drag\"]"
      ]
    },
    {
      "cell_type": "code",
      "execution_count": null,
      "metadata": {
        "id": "SC4qavN_wcj5"
      },
      "outputs": [],
      "source": [
        "labels = np.concatenate([etiquetas_Loupe, etiquetas_Drag])\n",
        "print(labels.shape)\n",
        "print(labels)\n",
        "Labels = np.array(labels)\n",
        "print(Labels[3999])"
      ]
    },
    {
      "cell_type": "code",
      "execution_count": null,
      "metadata": {
        "id": "Cd3KIQBox_bH"
      },
      "outputs": [],
      "source": [
        "import tensorflow as tf\n",
        "from tensorflow import keras\n",
        "from tensorflow.keras import datasets, layers, models\n",
        "import tensorflow.keras.optimizers as Optimizer\n",
        "\n",
        "# Helper libraries\n",
        "import numpy as np\n",
        "import matplotlib.pyplot as plt"
      ]
    },
    {
      "cell_type": "code",
      "execution_count": null,
      "metadata": {
        "id": "UKNmm-sh7MWX"
      },
      "outputs": [],
      "source": [
        "model = keras.Sequential([\n",
        "    keras.layers.Flatten(input_shape=(150, 150,3)),\n",
        "    keras.layers.Dense(128, activation='relu'),\n",
        "    \n",
        "    keras.layers.Dense(2, activation='softmax'),\n",
        "    \n",
        "])\n",
        "model.compile(optimizer='adam',\n",
        "              loss='sparse_categorical_crossentropy',\n",
        "              metrics=['accuracy'])\n",
        "model.fit(Images, Labels, epochs=30)\n",
        "trained=model.fit(Images, Labels, epochs=30)"
      ]
    },
    {
      "cell_type": "code",
      "execution_count": null,
      "metadata": {
        "id": "Tfyj-kWEesdD"
      },
      "outputs": [],
      "source": [
        "depronto sirve\n",
        "\n",
        "#data_dir = pathlib.Path(\"/content/drive/MyDrive/dataset/dataset/real/images/Loupe\")\n",
        "\n",
        "for img2 in os.listdir(ruta_Drag1):\n",
        "  img2 = cv2.imread(os.path.join(ruta_Drag1,img2))\n",
        "data_dir = pathlib.Path(\"img2\")\n",
        "print(data_dir)\n",
        "!ls -l img2\n",
        "params = {\n",
        "    \"directory\": data_dir,\n",
        "    \"validation_split\": 0.2,\n",
        "    \"seed\":12345,\n",
        "    \"image_size\":(180, 180),\n",
        "    \"batch_size\": 32\n",
        "}\n",
        "\n",
        "train_params = {**params,**{\"subset\":\"training\"}}\n",
        "val_params = {**params,**{\"subset\":\"validation\"}}                \n",
        "\n",
        "len(list(data_dir.glob(\"*/*.jpg\")))\n",
        "rain_ds = tf.keras.utils.image_dataset_from_directory(**train_params)\n"
      ]
    }
  ],
  "metadata": {
    "accelerator": "GPU",
    "colab": {
      "machine_shape": "hm",
      "provenance": [],
      "include_colab_link": true
    },
    "gpuClass": "standard",
    "kernelspec": {
      "display_name": "Python 3",
      "name": "python3"
    },
    "language_info": {
      "name": "python"
    }
  },
  "nbformat": 4,
  "nbformat_minor": 0
}