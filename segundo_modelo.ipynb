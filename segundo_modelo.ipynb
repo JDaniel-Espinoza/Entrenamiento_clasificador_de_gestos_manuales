{
  "cells": [
    {
      "cell_type": "markdown",
      "metadata": {
        "id": "view-in-github",
        "colab_type": "text"
      },
      "source": [
        "<a href=\"https://colab.research.google.com/github/MCHGR/Modelos/blob/main/segundo_modelo.ipynb\" target=\"_parent\"><img src=\"https://colab.research.google.com/assets/colab-badge.svg\" alt=\"Open In Colab\"/></a>"
      ]
    },
    {
      "cell_type": "code",
      "source": [
        "from google.colab import drive\n",
        "drive.mount('/content/drive')"
      ],
      "metadata": {
        "colab": {
          "base_uri": "https://localhost:8080/"
        },
        "id": "TnEf0Ft3K5ko",
        "outputId": "82cbd500-6df7-4ab1-f554-c0d8cd2f2e6b"
      },
      "execution_count": null,
      "outputs": [
        {
          "output_type": "stream",
          "name": "stdout",
          "text": [
            "Mounted at /content/drive\n"
          ]
        }
      ]
    },
    {
      "cell_type": "code",
      "execution_count": null,
      "metadata": {
        "id": "d3G5PtAUFe0k"
      },
      "outputs": [],
      "source": [
        "import cv2\n",
        "import numpy as np\n",
        "import os\n",
        "import pathlib\n",
        "import tensorflow as tf \n",
        "#import matplotlib.pyplot as plt /content/drive/MyDrive/dataset/dataset/real/images/Drag \n",
        "ruta_Drag1 = \"/content/drive/MyDrive/Dataset2/data/four_short\"\n",
        "\n",
        "Drag_train = []\n",
        "img_size = 150\n",
        "\n",
        "for img in os.listdir(ruta_Drag1):\n",
        "  img = cv2.imread(os.path.join(ruta_Drag1,img))\n",
        "#img_gray = cv2.cvtColor(img,cv2.COLOR_BGR2GRAY)\n",
        "  img_gray_resize = cv2.resize(img,(img_size,img_size))\n",
        "  Drag_train.append([img_gray_resize])\n",
        "\n",
        "#print(Drag_train.shape)\n",
        "#print(Drag_train)"
      ]
    },
    {
      "cell_type": "code",
      "execution_count": null,
      "metadata": {
        "id": "gRxqvEWEsoTT"
      },
      "outputs": [],
      "source": [
        "#/content/drive/MyDrive/dataset/dataset/real/images/Loupe\n",
        "ruta_Loupe1 = \"/content/drive/MyDrive/Dataset2/data/one_short\"\n",
        "Loupe_train = []\n",
        "img_size2 = 150\n",
        "\n",
        "\n",
        "\n",
        "for img2 in os.listdir(ruta_Loupe1):\n",
        "  img2 = cv2.imread(os.path.join(ruta_Loupe1,img2))\n",
        "# img_gray = cv2.cvtColor(img,cv2.COLOR_BGR2GRAY)\n",
        "  img_gray_resize2 = cv2.resize(img2,(img_size2,img_size2))\n",
        "  Loupe_train.append([img_gray_resize2])\n",
        "#  print(len(Drag_train))\n",
        "#  print(Drag_train)\n",
        "\n",
        "\n",
        "\n"
      ]
    },
    {
      "cell_type": "code",
      "source": [
        "#/content/drive/MyDrive/dataset/dataset/real/images/Loupe\n",
        "ruta_peace = \"/content/drive/MyDrive/Dataset2/data/peace_short\"\n",
        "peace_train = []\n",
        "img_size2 = 150\n",
        "\n",
        "\n",
        "\n",
        "for img2 in os.listdir(ruta_peace):\n",
        "  img2 = cv2.imread(os.path.join(ruta_peace,img2))\n",
        "# img_gray = cv2.cvtColor(img,cv2.COLOR_BGR2GRAY)\n",
        "  img_gray_resize2 = cv2.resize(img2,(img_size2,img_size2))\n",
        "  peace_train.append([img_gray_resize2])\n",
        "#  print(len(Drag_train))\n",
        "#  print(Drag_train)\n"
      ],
      "metadata": {
        "id": "eTs6wAy1XwcR"
      },
      "execution_count": null,
      "outputs": []
    },
    {
      "cell_type": "code",
      "source": [
        "peace_train = np.array(peace_train)\n",
        "print(peace_train.shape)\n",
        "\n",
        "Drag_train = np.array(Drag_train)\n",
        "print(Drag_train.shape)\n",
        "\n",
        "Loupe_train = np.array(Loupe_train)\n",
        "print(Loupe_train.shape)"
      ],
      "metadata": {
        "colab": {
          "base_uri": "https://localhost:8080/"
        },
        "id": "eM3Bf2Kuh0Pm",
        "outputId": "1cd1908c-b836-4c22-b496-b117f2287069"
      },
      "execution_count": null,
      "outputs": [
        {
          "output_type": "stream",
          "name": "stdout",
          "text": [
            "(5181, 1, 150, 150, 3)\n",
            "(5139, 1, 150, 150, 3)\n",
            "(5402, 1, 150, 150, 3)\n"
          ]
        }
      ]
    },
    {
      "cell_type": "code",
      "execution_count": null,
      "metadata": {
        "id": "OkwEUbw3Ynzo",
        "colab": {
          "base_uri": "https://localhost:8080/",
          "height": 291
        },
        "outputId": "26513914-1e15-45ef-dc3a-7244860e5224"
      },
      "outputs": [
        {
          "output_type": "stream",
          "name": "stdout",
          "text": [
            "3000\n",
            "(3000, 150, 150, 3)\n",
            "3000\n",
            "(3000, 150, 150, 3)\n",
            "3000\n",
            "(3000,)\n",
            "3000\n",
            "(3000,)\n"
          ]
        },
        {
          "output_type": "execute_result",
          "data": {
            "text/plain": [
              "'\\netiquetas_test = np.concatenate([etiquetas_3, etiquetas_30, etiquetas_300])\\nprint(len(etiquetas_test))\\nEtiquetas_test = np.array(etiquetas_test)\\nprint(Etiquetas_test.shape)\\n\\ntrain_dataset = tf.data.Dataset.from_tensor_slices(Images_train)\\ntrain_batched_dataset = train_dataset.batch(32)\\nfor i, element in enumerate(train_batched_dataset):\\n  print(element.shape)\\n  if i >=2:\\n    break\\n\\ncallbacks = [\\n    keras.callbacks.ModelCheckpoint(\\n        filepath=\"convnet_from_scratch.keras\",\\n        save_best_only=True,\\n        monitor=\"val_loss\")\\n]\\n'"
            ],
            "application/vnd.google.colaboratory.intrinsic+json": {
              "type": "string"
            }
          },
          "metadata": {},
          "execution_count": 6
        }
      ],
      "source": [
        "import numpy as np\n",
        "import tensorflow as tf\n",
        "from tensorflow import keras\n",
        "from tensorflow.keras import layers, utils, callbacks\n",
        "\n",
        "\n",
        "#Drag_train = np.array(Drag_train)\n",
        "Drag_train = Drag_train.reshape((5139, 150, 150, 3)).astype(\"float32\") / 255\n",
        "train_images_D, val_images_D= Drag_train[0:1000], Drag_train[1000:2000]\n",
        "etiquetas_1 = np.repeat(0,1000)\n",
        "etiquetas_2 = np.repeat(0,1000)\n",
        "#etiquetas_3 = np.repeat(0,500)\n",
        "\n",
        "'''\n",
        "#Drag_train = np.array(Drag_train)\n",
        "Drag_train = Drag_train.reshape((5139, 150, 150, 3)).astype(\"float32\") / 255\n",
        "train_images_D, val_images_D, test_images_D = Drag_train[0:1000], Drag_train[1000:2000], Drag_train[2000:2500]\n",
        "etiquetas_1 = np.repeat(0,1000)\n",
        "etiquetas_2 = np.repeat(0,1000)\n",
        "#etiquetas_3 = np.repeat(0,500)\n",
        "\n",
        "'''\n",
        "\n",
        "#Loupe_train = np.array(Loupe_train)\n",
        "Loupe_train = Loupe_train.reshape((5402, 150, 150, 3)).astype(\"float32\") / 255\n",
        "train_images_L, val_images_L = Loupe_train[0:1000], Loupe_train[1000:2000]\n",
        "etiquetas_10 = np.repeat(1,1000)\n",
        "etiquetas_20 = np.repeat(1,1000)\n",
        "#etiquetas_30 = np.repeat(1,500)\n",
        "'''\n",
        "#Loupe_train = np.array(Loupe_train)\n",
        "Loupe_train = Loupe_train.reshape((5402, 150, 150, 3)).astype(\"float32\") / 255\n",
        "train_images_L, val_images_L, test_images_L = Loupe_train[0:1000], Loupe_train[1000:2000], Loupe_train[2000:2500]\n",
        "etiquetas_10 = np.repeat(1,1000)\n",
        "etiquetas_20 = np.repeat(1,1000)\n",
        "#etiquetas_30 = np.repeat(1,500)\n",
        "'''\n",
        "\n",
        "peace_train = peace_train.reshape((5181, 150, 150, 3)).astype(\"float32\") / 255\n",
        "train_images_P, val_images_P= peace_train[0:1000], peace_train[1000:2000]\n",
        "etiquetas_100 = np.repeat(2,1000)\n",
        "etiquetas_200 = np.repeat(2,1000)\n",
        "#etiquetas_300 = np.repeat(2,500)\n",
        "\n",
        "'''\n",
        "\n",
        "peace_train = peace_train.reshape((5181, 150, 150, 3)).astype(\"float32\") / 255\n",
        "train_images_P, val_images_P, test_images_P = peace_train[0:1000], peace_train[1000:2000], peace_train[2000:2500]\n",
        "etiquetas_100 = np.repeat(2,1000)\n",
        "etiquetas_200 = np.repeat(2,1000)\n",
        "#etiquetas_300 = np.repeat(2,500)\n",
        "'''\n",
        "\n",
        "##################  imagenes ###############################\n",
        "\n",
        "images_train = np.concatenate([train_images_D, train_images_L, train_images_P])\n",
        "print(len(images_train))\n",
        "Images_train = np.array(images_train)\n",
        "print(Images_train.shape)\n",
        "\n",
        "images_val = np.concatenate([val_images_D, val_images_L, val_images_P])\n",
        "print(len(images_val))\n",
        "Images_val = np.array(images_val)\n",
        "print(Images_val.shape)\n",
        "'''\n",
        "images_test = np.concatenate([test_images_D, test_images_L, test_images_P])\n",
        "print(len(images_test))\n",
        "Images_test = np.array(images_test)\n",
        "print(Images_test.shape)\n",
        "'''\n",
        "##################  ETIQUETAS ###############################\n",
        "\n",
        "etiquetas_train = np.concatenate([etiquetas_1, etiquetas_10, etiquetas_100])\n",
        "print(len(etiquetas_train))\n",
        "Etiquetas_train = np.array(etiquetas_train)\n",
        "print(Etiquetas_train.shape)\n",
        "\n",
        "etiquetas_val = np.concatenate([etiquetas_2, etiquetas_20, etiquetas_200])\n",
        "print(len(etiquetas_val))\n",
        "Etiquetas_val = np.array(etiquetas_val)\n",
        "print(Etiquetas_val.shape)\n",
        "'''\n",
        "etiquetas_test = np.concatenate([etiquetas_3, etiquetas_30, etiquetas_300])\n",
        "print(len(etiquetas_test))\n",
        "Etiquetas_test = np.array(etiquetas_test)\n",
        "print(Etiquetas_test.shape)\n",
        "\n",
        "train_dataset = tf.data.Dataset.from_tensor_slices(Images_train)\n",
        "train_batched_dataset = train_dataset.batch(32)\n",
        "for i, element in enumerate(train_batched_dataset):\n",
        "  print(element.shape)\n",
        "  if i >=2:\n",
        "    break\n",
        "\n",
        "callbacks = [\n",
        "    keras.callbacks.ModelCheckpoint(\n",
        "        filepath=\"convnet_from_scratch.keras\",\n",
        "        save_best_only=True,\n",
        "        monitor=\"val_loss\")\n",
        "]\n",
        "'''"
      ]
    },
    {
      "cell_type": "code",
      "source": [
        "import matplotlib.pyplot as plt\n",
        "\n",
        "plt.figure()\n",
        "plt.imshow(np.squeeze(Images_train[1999]))\n",
        "print(Etiquetas_train[1999])\n",
        "\n"
      ],
      "metadata": {
        "colab": {
          "base_uri": "https://localhost:8080/",
          "height": 287
        },
        "id": "RAjRLAm-Hdqs",
        "outputId": "a1337455-3fc3-40b2-807d-2ca4530593a9"
      },
      "execution_count": null,
      "outputs": [
        {
          "output_type": "stream",
          "name": "stdout",
          "text": [
            "1\n"
          ]
        },
        {
          "output_type": "display_data",
          "data": {
            "text/plain": [
              "<Figure size 432x288 with 1 Axes>"
            ],
            "image/png": "[encoded data removed]"
          },
          "metadata": {
            "needs_background": "light"
          }
        }
      ]
    },
    {
      "cell_type": "code",
      "execution_count": null,
      "metadata": {
        "id": "G1ZO5IK25YQv",
        "colab": {
          "base_uri": "https://localhost:8080/"
        },
        "outputId": "1b86a39d-5e48-427d-9b78-cc46f5037c7c"
      },
      "outputs": [
        {
          "output_type": "stream",
          "name": "stdout",
          "text": [
            "Epoch 1/100\n"
          ]
        }
      ],
      "source": [
        "\n",
        "inputs = keras.Input(shape=(150, 150, 3))\n",
        "x = layers.Rescaling(1./255)(inputs)\n",
        "x = layers.Conv2D(filters=32, kernel_size=3, activation=\"relu\", padding = 'same')(x)\n",
        "x = layers.MaxPooling2D(pool_size=2)(x)\n",
        "x = layers.Conv2D(filters=64, kernel_size=3, activation=\"relu\", padding = 'same')(x)\n",
        "x = layers.MaxPooling2D(pool_size=2)(x)\n",
        "x = layers.Conv2D(filters=128, kernel_size=3, activation=\"relu\", padding = 'same')(x)\n",
        "x = layers.MaxPooling2D(pool_size=2)(x)\n",
        "x = layers.Conv2D(filters=256, kernel_size=3, activation=\"relu\", padding = 'same')(x)\n",
        "x = layers.MaxPooling2D(pool_size=2)(x)\n",
        "x = layers.Conv2D(filters=256, kernel_size=3, activation=\"relu\", padding = 'same')(x)\n",
        "'''x = layers.MaxPooling2D(pool_size=1)(x)\n",
        "x = layers.Conv2D(filters=256, kernel_size=3, activation=\"relu\")(x)\n",
        "x = layers.MaxPooling2D(pool_size=2)(x)\n",
        "x = layers.Conv2D(filters=256, kernel_size=3, activation=\"relu\")(x)\n",
        "x = layers.MaxPooling2D(pool_size=1)(x)\n",
        "x = layers.Conv2D(filters=256, kernel_size=3, activation=\"relu\")(x)\n",
        "x = layers.MaxPooling2D(pool_size=2)(x)\n",
        "x = layers.Conv2D(filters=256, kernel_size=3, activation=\"relu\")(x)\n",
        "x = layers.MaxPooling2D(pool_size=1)(x)\n",
        "x = layers.Conv2D(filters=256, kernel_size=3, activation=\"relu\")(x)\n",
        "x = layers.MaxPooling2D(pool_size=2)(x)\n",
        "x = layers.Conv2D(filters=256, kernel_size=3, activation=\"relu\")(x)\n",
        "x = layers.MaxPooling2D(pool_size=2)(x)\n",
        "x = layers.Conv2D(filters=256, kernel_size=3, activation=\"relu\")(x)'''\n",
        "x = layers.Flatten()(x)\n",
        "x = layers.Dropout(0.5)(x)\n",
        "outputs = layers.Dense(3, activation=\"softmax\")(x)\n",
        "model = keras.Model(inputs=inputs, outputs=outputs)\n",
        "\n",
        "model.compile(loss=\"sparse_categorical_crossentropy\",\n",
        "              optimizer=\"rmsprop\",\n",
        "              metrics=[\"accuracy\"])\n",
        "\n",
        "history = model.fit(Images_train,\n",
        "                    Etiquetas_train,\n",
        "                    epochs=100,\n",
        "                    batch_size=512,\n",
        "                    validation_split= 0.2,\n",
        "                    validation_data=(Images_val,Etiquetas_val))\n",
        "                    #callbacks = callbacks )\n",
        "                    #callbacks = callbacks \n",
        "model.summary()\n"
      ]
    },
    {
      "cell_type": "code",
      "execution_count": null,
      "metadata": {
        "id": "lrbSH6maUeSV",
        "colab": {
          "base_uri": "https://localhost:8080/"
        },
        "outputId": "f1678189-df29-4c72-a044-518125d89ee1"
      },
      "outputs": [
        {
          "output_type": "execute_result",
          "data": {
            "text/plain": [
              "PosixPath('/content/drive/MyDrive/dataset/dataset/real/images/Drag')"
            ]
          },
          "metadata": {},
          "execution_count": 6
        }
      ],
      "source": [
        "#test_metrics = model.evaluate(Images_test, Etiquetas_test)\n",
        "import pathlib\n",
        "data_dir = pathlib.Path(\"/content/drive/MyDrive/dataset/dataset/real/images/Drag\")\n",
        "data_dir"
      ]
    },
    {
      "cell_type": "code",
      "execution_count": null,
      "metadata": {
        "id": "JBFhTFG7O-mf"
      },
      "outputs": [],
      "source": [
        "import os, shutil, pathlib\n",
        "from pathlib import Path\n",
        "original_dir = pathlib.Path(\"/content/drive/MyDrive/dataset/dataset/real/images/Drag\")\n",
        "new_base_dir = pathlib.Path(\"/content/drive/MyDrive/dataset/dataset/real/images/Dragp\")\n",
        "\n",
        "\n",
        "\n",
        "steps_per_epoch=1,\n",
        "\n",
        "\n",
        "def make_subset(subset_name, start_index, end_index):\n",
        "    \n",
        "    dir = new_base_dir / subset_name \n",
        "    os.makedirs(dir)\n",
        "\n",
        "    for i in range(start_index, end_index):\n",
        "      shutil.copyfile(src=original_dir , dst = dir )       \n",
        "\n",
        "'''def make_subset(subset_name, start_index, end_index):\n",
        "  for category in (\"cat\",\"dog\"):\n",
        "    dir = new_base_dir / subset_name / category\n",
        "    os.makedirs(dir)\n",
        "    fnames = [f\"{category}.{i}.jpg\"\n",
        "             for i in range(start_index, end_index)]\n",
        "    for fname in fnames:\n",
        "      shutil.copyfile(src=original_dir / fname,\n",
        "                      dst = dir / fname)         \n",
        "'''    \n",
        "\n",
        "make_subset(\"train\", start_index=0, end_index=1000)\n",
        "make_subset(\"validation\", start_index=1000, end_index=1500)\n",
        "make_subset(\"test\", start_index=1500, end_index=2000)\n",
        "\n",
        "#make_subset(\"train\", start_index=0, end_index=10800)\n",
        "#make_subset(\"validation\", start_index=10800, end_index=16200)\n",
        "#make_subset(\"test\", start_index=16200, end_index=27000)\n",
        "\n",
        "#data_aumentation = keras.Sequential(\n",
        "#   [\n",
        "#        layers.RandomFlip(\"horizontal\"),\n",
        "#        layers.RandomRotation(0.1),\n",
        "#        layers.RandomZoom(0.2),\n",
        "#     \n",
        "#   ]\n",
        "#)"
      ]
    },
    {
      "cell_type": "code",
      "execution_count": null,
      "metadata": {
        "id": "5RNWqdcc8AMM"
      },
      "outputs": [],
      "source": [
        "from tensorflow.keras.utils import image_dataset_from_directory\n",
        "\n",
        "train_dataset = image_dataset_from_directory(\n",
        "    new_base_dir / \"train\",\n",
        "    image_size=(180, 180),\n",
        "    batch_size=32)\n",
        "validation_dataset = image_dataset_from_directory(\n",
        "    new_base_dir / \"validation\",\n",
        "    image_size=(180, 180),\n",
        "    batch_size=32)\n",
        "test_dataset = image_dataset_from_directory(\n",
        "    new_base_dir / \"test\",\n",
        "    image_size=(180, 180),\n",
        "    batch_size=32)\n",
        "\n",
        "\n"
      ]
    },
    {
      "cell_type": "code",
      "execution_count": null,
      "metadata": {
        "id": "KxvuFbaRC0TV"
      },
      "outputs": [],
      "source": [
        "import tensorflow as tf\n",
        "Drag_train = np.array(Drag_train)\n",
        "Drag_train = Drag_train.reshape((2000, 150, 150, 3)).astype(\"float32\") / 255\n",
        "train_images, val_images, test_images = Drag_train[0:800], Drag_train[800:1600], Drag_train[1600:2000]\n",
        "etiquetas_1 = np.repeat(0,800)\n",
        "etiquetas_2 = np.repeat(0,800)\n",
        "etiquetas_3 = np.repeat(0,400)\n",
        "#train_labels, val_labels = labels[10000:], labels[:10000]\n",
        "  \n",
        "#train_dataset = tf.data.Dataset.from_tensor_slices(train_images)\n",
        "#train_batched_dataset = train_dataset.batch(32)\n",
        "#for i, element in enumerate(train_batched_dataset):\n",
        "#  print(element.shape)\n",
        "#  if i >=2:\n",
        "#    break\n",
        "#print(train_images.shape)\n",
        "\n"
      ]
    },
    {
      "cell_type": "code",
      "execution_count": null,
      "metadata": {
        "colab": {
          "base_uri": "https://localhost:8080/"
        },
        "id": "owRqAzostKMt",
        "outputId": "08031f9b-6f59-4e34-906f-b9d5af5297c1"
      },
      "outputs": [
        {
          "name": "stdout",
          "output_type": "stream",
          "text": [
            "(2000, 150, 150, 3)\n"
          ]
        }
      ],
      "source": [
        "Loupe_train = np.array(Loupe_train)\n",
        "Loupe_train.shape = (2000, 150, 150, 3)\n",
        "print(Loupe_train.shape)"
      ]
    },
    {
      "cell_type": "code",
      "execution_count": null,
      "metadata": {
        "colab": {
          "base_uri": "https://localhost:8080/"
        },
        "id": "kgb72ooIV77s",
        "outputId": "87553c8f-1a0d-4598-9223-40a15ab6f7a0"
      },
      "outputs": [
        {
          "name": "stdout",
          "output_type": "stream",
          "text": [
            "(2000, 150, 150, 3)\n",
            "2000\n"
          ]
        }
      ],
      "source": [
        "Drag_train = np.array(Drag_train)\n",
        "Drag_train.shape = (2000, 150, 150, 3)\n",
        "n = Drag_train.shape[0]\n",
        "print(Drag_train.shape)\n",
        "print(n)"
      ]
    },
    {
      "cell_type": "code",
      "execution_count": null,
      "metadata": {
        "id": "ctBlexoaZeBn"
      },
      "outputs": [],
      "source": [
        "import matplotlib.pyplot as plt\n",
        "import tensorflow as ts\n",
        "from tensorflow import keras\n",
        "from tensorflow.keras.utils import load_img, img_to_array\n",
        "plt.axis(\"off\")\n",
        "plt.imshow(load_img(img[1]))\n"
      ]
    },
    {
      "cell_type": "code",
      "execution_count": null,
      "metadata": {
        "id": "ZOh58XeUh4Ok"
      },
      "outputs": [],
      "source": [
        "train = Drag_train[:1000]\n",
        "val = Drag_train[1000:1600]\n",
        "test = Drag_train[1600:2000]\n",
        "print(train.shape, val.shape, test.shape)"
      ]
    },
    {
      "cell_type": "code",
      "execution_count": null,
      "metadata": {
        "id": "EGD7uGEhpNCO"
      },
      "outputs": [],
      "source": [
        "import tensorflow as ts\n",
        "from tensorflow import keras\n",
        "from tensorflow.keras import layers\n",
        "from tensorflow.keras.utils import to_categorical\n",
        "#y_train = to_categorical(train_labels)\n",
        "#y_test = to_categorical(test_labels)\n",
        "\n",
        "model = keras.Sequential([\n",
        "    layers.Dense(64, activation=\"relu\"),\n",
        "    layers.Dense(64, activation=\"relu\"),\n",
        "    layers.Dense(2, activation=\"softmax\")  \n",
        "])\n",
        "model.compile(optimizer=\"rmsprop\",\n",
        "              loss=\"categorical_crossentropy\",\n",
        "              metrics=[\"accuracy\"])\n",
        "x_val = val\n",
        "partial_x_train = train\n",
        "y_val = y_train[:1000]\n",
        "partial_y_train = y_train[1000:]\n",
        "\n",
        "history = model.fit(partial_x_train,\n",
        "                    partial_y_train,\n",
        "                    epochs=20,\n",
        "                    batch_size=128,\n",
        "                    validation_data=(x_val, y_val))  "
      ]
    },
    {
      "cell_type": "code",
      "execution_count": null,
      "metadata": {
        "colab": {
          "base_uri": "https://localhost:8080/",
          "height": 276
        },
        "id": "3tT83_8qPSKK",
        "outputId": "7e8ff105-e598-4fa0-d874-460f64cefc2f"
      },
      "outputs": [
        {
          "output_type": "display_data",
          "data": {
            "text/plain": [
              "<Figure size 432x288 with 2 Axes>"
            ],
            "image/png": "[encoded data removed]"
          },
          "metadata": {
            "needs_background": "light"
          }
        }
      ],
      "source": [
        "import matplotlib.pyplot as plt\n",
        "\n",
        "plt.figure()\n",
        "plt.imshow(np.squeeze(Drag_train[-2]))\n",
        "plt.colorbar()\n",
        "plt.grid(False)\n",
        "plt.show()"
      ]
    },
    {
      "cell_type": "code",
      "execution_count": null,
      "metadata": {
        "id": "pVIuLtwGsOMP"
      },
      "outputs": [],
      "source": [
        "images = np.concatenate([Loupe_train,Drag_train])\n",
        "print(len(images))\n",
        "Images = np.array(images)\n",
        "print(Images.shape)"
      ]
    },
    {
      "cell_type": "code",
      "execution_count": null,
      "metadata": {
        "id": "jf6rLcmKu_wS"
      },
      "outputs": [],
      "source": [
        "etiquetas_Loupe = np.repeat(0,2000)\n",
        "print(len(etiquetas_Loupe))\n",
        "print(etiquetas_Loupe)"
      ]
    },
    {
      "cell_type": "code",
      "execution_count": null,
      "metadata": {
        "id": "3ms0nEgQv1YR"
      },
      "outputs": [],
      "source": [
        "etiquetas_Drag = np.repeat(1,2000)\n",
        "print(len(etiquetas_Drag))\n",
        "print(etiquetas_Drag)"
      ]
    },
    {
      "cell_type": "code",
      "execution_count": null,
      "metadata": {
        "id": "GAJXJb3mwGUY"
      },
      "outputs": [],
      "source": [
        "class_names = [\"Loupe\",\"Drag\"]"
      ]
    },
    {
      "cell_type": "code",
      "execution_count": null,
      "metadata": {
        "id": "SC4qavN_wcj5"
      },
      "outputs": [],
      "source": [
        "labels = np.concatenate([etiquetas_Loupe, etiquetas_Drag])\n",
        "print(labels.shape)\n",
        "print(labels)\n",
        "Labels = np.array(labels)\n",
        "print(Labels[3999])"
      ]
    },
    {
      "cell_type": "code",
      "execution_count": null,
      "metadata": {
        "id": "Cd3KIQBox_bH"
      },
      "outputs": [],
      "source": [
        "import tensorflow as tf\n",
        "from tensorflow import keras\n",
        "from tensorflow.keras import datasets, layers, models\n",
        "import tensorflow.keras.optimizers as Optimizer\n",
        "\n",
        "# Helper libraries\n",
        "import numpy as np\n",
        "import matplotlib.pyplot as plt"
      ]
    },
    {
      "cell_type": "code",
      "execution_count": null,
      "metadata": {
        "id": "UKNmm-sh7MWX"
      },
      "outputs": [],
      "source": [
        "model = keras.Sequential([\n",
        "    keras.layers.Flatten(input_shape=(150, 150,3)),\n",
        "    keras.layers.Dense(128, activation='relu'),\n",
        "    \n",
        "    keras.layers.Dense(2, activation='softmax'),\n",
        "    \n",
        "])\n",
        "model.compile(optimizer='adam',\n",
        "              loss='sparse_categorical_crossentropy',\n",
        "              metrics=['accuracy'])\n",
        "model.fit(Images, Labels, epochs=30)\n",
        "trained=model.fit(Images, Labels, epochs=30)"
      ]
    },
    {
      "cell_type": "code",
      "source": [
        "depronto sirve\n",
        "\n",
        "#data_dir = pathlib.Path(\"/content/drive/MyDrive/dataset/dataset/real/images/Loupe\")\n",
        "\n",
        "for img2 in os.listdir(ruta_Drag1):\n",
        "  img2 = cv2.imread(os.path.join(ruta_Drag1,img2))\n",
        "data_dir = pathlib.Path(\"img2\")\n",
        "print(data_dir)\n",
        "!ls -l img2\n",
        "params = {\n",
        "    \"directory\": data_dir,\n",
        "    \"validation_split\": 0.2,\n",
        "    \"seed\":12345,\n",
        "    \"image_size\":(180, 180),\n",
        "    \"batch_size\": 32\n",
        "}\n",
        "\n",
        "train_params = {**params,**{\"subset\":\"training\"}}\n",
        "val_params = {**params,**{\"subset\":\"validation\"}}                \n",
        "\n",
        "len(list(data_dir.glob(\"*/*.jpg\")))\n",
        "rain_ds = tf.keras.utils.image_dataset_from_directory(**train_params)\n"
      ],
      "metadata": {
        "id": "Tfyj-kWEesdD"
      },
      "execution_count": null,
      "outputs": []
    }
  ],
  "metadata": {
    "accelerator": "GPU",
    "colab": {
      "provenance": [],
      "include_colab_link": true
    },
    "gpuClass": "standard",
    "kernelspec": {
      "display_name": "Python 3",
      "name": "python3"
    },
    "language_info": {
      "name": "python"
    }
  },
  "nbformat": 4,
  "nbformat_minor": 0
}